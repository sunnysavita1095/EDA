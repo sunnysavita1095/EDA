{
 "cells": [
  {
   "cell_type": "markdown",
   "id": "ee282741",
   "metadata": {},
   "source": [
    "## 1. UNDERSTANDING THE GIVEN PROJECT\n",
    "* Solve in ipynb:\n",
    "1. Download the dataset.\n",
    "https://archive.ics.uci.edu/ml/datasets/Algerian+Forest+Fires+Dataset++#\n",
    "2. EDA(analysis) of your dataset and create a report\n",
    "3. Perform necessary preprocessing steps\n",
    "4. Create regression model for a given dataset\n",
    "5. For regression use linear regression, ridge and lasso regression\n",
    "\n",
    "* API Testing:\n",
    "1. Now create a flask API for testing your model(via postman) or you can create an HTML page\n",
    "2. While creating the API you have to perform single value prediction as well as bulk prediction.\n",
    "3. Load your data via mongo db(for bulk prediction)\n",
    "4. Try to perform api testing in a modular way\n",
    "5. Do proper logging for your application.\n",
    "6. Try to handle exceptions at each and every step."
   ]
  },
  {
   "cell_type": "markdown",
   "id": "35ac4284",
   "metadata": {},
   "source": [
    "## 2. DATA COLLECTION AND UNDERSTANDING\n",
    "\n",
    "* I used a dataset on **Algerian Forest Fires** from UCI. The dataset contains a culmination of forest fire observations and data in two regions of Algeria: the Bejaia region and the Sidi Bel-Abbes region. The timeline of this dataset is from **June 2012 to September 2012**. \n",
    "\n",
    "\n",
    "\n",
    "* In this project, we focused on whether certain weather features could predict forest fires in these regions using the classification algorithms and for the regression problem predict the **fire weather index**."
   ]
  },
  {
   "cell_type": "markdown",
   "id": "25bf6d73",
   "metadata": {},
   "source": [
    "## 3. DATA EXPLORATION\n",
    "\n",
    "* In this step, we will apply Exploratory Data Analysis (EDA) to extract insights from the data set to know which features have contributed more in predicting Forest fire by performing Data Analysis using Pandas and Data visualization using Matplotlib & Seaborn. It is always a good practice to understand the data first and try to gather as many insights from it.\n",
    "\n",
    "\n",
    "Below are tasks to be performed in EDA:\n",
    "\n",
    "**1. Importing Libraries**\n",
    "\n",
    "**2. Data Cleaning for EDA Report** \n",
    "\n",
    "**3. Exploratory Data Analysis (EDA) on all Features**\n"
   ]
  },
  {
   "cell_type": "markdown",
   "id": "549df012",
   "metadata": {},
   "source": [
    "### Import Libraries"
   ]
  },
  {
   "cell_type": "code",
   "execution_count": 1,
   "id": "7c535644",
   "metadata": {},
   "outputs": [],
   "source": [
    "import pandas as pd\n",
    "import numpy as np\n",
    "import matplotlib.pyplot as plt\n",
    "%matplotlib inline\n",
    "import seaborn as sns\n",
    "from warnings import filterwarnings\n",
    "filterwarnings('ignore')"
   ]
  },
  {
   "cell_type": "code",
   "execution_count": 8,
   "id": "84386880",
   "metadata": {},
   "outputs": [
    {
     "data": {
      "text/html": [
       "<div>\n",
       "<style scoped>\n",
       "    .dataframe tbody tr th:only-of-type {\n",
       "        vertical-align: middle;\n",
       "    }\n",
       "\n",
       "    .dataframe tbody tr th {\n",
       "        vertical-align: top;\n",
       "    }\n",
       "\n",
       "    .dataframe thead th {\n",
       "        text-align: right;\n",
       "    }\n",
       "</style>\n",
       "<table border=\"1\" class=\"dataframe\">\n",
       "  <thead>\n",
       "    <tr style=\"text-align: right;\">\n",
       "      <th></th>\n",
       "      <th>day</th>\n",
       "      <th>month</th>\n",
       "      <th>year</th>\n",
       "      <th>Temperature</th>\n",
       "      <th>RH</th>\n",
       "      <th>Ws</th>\n",
       "      <th>Rain</th>\n",
       "      <th>FFMC</th>\n",
       "      <th>DMC</th>\n",
       "      <th>DC</th>\n",
       "      <th>ISI</th>\n",
       "      <th>BUI</th>\n",
       "      <th>FWI</th>\n",
       "      <th>Classes</th>\n",
       "    </tr>\n",
       "  </thead>\n",
       "  <tbody>\n",
       "    <tr>\n",
       "      <th>0</th>\n",
       "      <td>01</td>\n",
       "      <td>06</td>\n",
       "      <td>2012</td>\n",
       "      <td>29</td>\n",
       "      <td>57</td>\n",
       "      <td>18</td>\n",
       "      <td>0</td>\n",
       "      <td>65.7</td>\n",
       "      <td>3.4</td>\n",
       "      <td>7.6</td>\n",
       "      <td>1.3</td>\n",
       "      <td>3.4</td>\n",
       "      <td>0.5</td>\n",
       "      <td>not fire</td>\n",
       "    </tr>\n",
       "    <tr>\n",
       "      <th>1</th>\n",
       "      <td>02</td>\n",
       "      <td>06</td>\n",
       "      <td>2012</td>\n",
       "      <td>29</td>\n",
       "      <td>61</td>\n",
       "      <td>13</td>\n",
       "      <td>1.3</td>\n",
       "      <td>64.4</td>\n",
       "      <td>4.1</td>\n",
       "      <td>7.6</td>\n",
       "      <td>1</td>\n",
       "      <td>3.9</td>\n",
       "      <td>0.4</td>\n",
       "      <td>not fire</td>\n",
       "    </tr>\n",
       "    <tr>\n",
       "      <th>2</th>\n",
       "      <td>03</td>\n",
       "      <td>06</td>\n",
       "      <td>2012</td>\n",
       "      <td>26</td>\n",
       "      <td>82</td>\n",
       "      <td>22</td>\n",
       "      <td>13.1</td>\n",
       "      <td>47.1</td>\n",
       "      <td>2.5</td>\n",
       "      <td>7.1</td>\n",
       "      <td>0.3</td>\n",
       "      <td>2.7</td>\n",
       "      <td>0.1</td>\n",
       "      <td>not fire</td>\n",
       "    </tr>\n",
       "    <tr>\n",
       "      <th>3</th>\n",
       "      <td>04</td>\n",
       "      <td>06</td>\n",
       "      <td>2012</td>\n",
       "      <td>25</td>\n",
       "      <td>89</td>\n",
       "      <td>13</td>\n",
       "      <td>2.5</td>\n",
       "      <td>28.6</td>\n",
       "      <td>1.3</td>\n",
       "      <td>6.9</td>\n",
       "      <td>0</td>\n",
       "      <td>1.7</td>\n",
       "      <td>0</td>\n",
       "      <td>not fire</td>\n",
       "    </tr>\n",
       "    <tr>\n",
       "      <th>4</th>\n",
       "      <td>05</td>\n",
       "      <td>06</td>\n",
       "      <td>2012</td>\n",
       "      <td>27</td>\n",
       "      <td>77</td>\n",
       "      <td>16</td>\n",
       "      <td>0</td>\n",
       "      <td>64.8</td>\n",
       "      <td>3</td>\n",
       "      <td>14.2</td>\n",
       "      <td>1.2</td>\n",
       "      <td>3.9</td>\n",
       "      <td>0.5</td>\n",
       "      <td>not fire</td>\n",
       "    </tr>\n",
       "  </tbody>\n",
       "</table>\n",
       "</div>"
      ],
      "text/plain": [
       "  day month  year Temperature  RH  Ws Rain   FFMC  DMC    DC  ISI  BUI  FWI  \\\n",
       "0  01    06  2012          29  57  18     0  65.7  3.4   7.6  1.3  3.4  0.5   \n",
       "1  02    06  2012          29  61  13   1.3  64.4  4.1   7.6    1  3.9  0.4   \n",
       "2  03    06  2012          26  82  22  13.1  47.1  2.5   7.1  0.3  2.7  0.1   \n",
       "3  04    06  2012          25  89  13   2.5  28.6  1.3   6.9    0  1.7    0   \n",
       "4  05    06  2012          27  77  16     0  64.8    3  14.2  1.2  3.9  0.5   \n",
       "\n",
       "     Classes    \n",
       "0  not fire     \n",
       "1  not fire     \n",
       "2  not fire     \n",
       "3  not fire     \n",
       "4  not fire     "
      ]
     },
     "execution_count": 8,
     "metadata": {},
     "output_type": "execute_result"
    }
   ],
   "source": [
    "# Create Dataframe and Read the dataset using Pandas\n",
    "df = pd.read_csv('Algerian_forest_fires_dataset(Temp_Pred_Regression).csv', header=1)\n",
    "df.head()"
   ]
  },
  {
   "cell_type": "code",
   "execution_count": 9,
   "id": "99e6ab3c",
   "metadata": {},
   "outputs": [
    {
     "name": "stdout",
     "output_type": "stream",
     "text": [
      "<class 'pandas.core.frame.DataFrame'>\n",
      "RangeIndex: 246 entries, 0 to 245\n",
      "Data columns (total 14 columns):\n",
      " #   Column       Non-Null Count  Dtype \n",
      "---  ------       --------------  ----- \n",
      " 0   day          246 non-null    object\n",
      " 1   month        245 non-null    object\n",
      " 2   year         245 non-null    object\n",
      " 3   Temperature  245 non-null    object\n",
      " 4    RH          245 non-null    object\n",
      " 5    Ws          245 non-null    object\n",
      " 6   Rain         245 non-null    object\n",
      " 7   FFMC         245 non-null    object\n",
      " 8   DMC          245 non-null    object\n",
      " 9   DC           245 non-null    object\n",
      " 10  ISI          245 non-null    object\n",
      " 11  BUI          245 non-null    object\n",
      " 12  FWI          245 non-null    object\n",
      " 13  Classes      244 non-null    object\n",
      "dtypes: object(14)\n",
      "memory usage: 27.0+ KB\n"
     ]
    }
   ],
   "source": [
    "df.info()"
   ]
  },
  {
   "cell_type": "markdown",
   "id": "74bf3e0d",
   "metadata": {},
   "source": [
    "* Looks like all the features are  identified as object but can be converted into numeric, if we remove rows which has strings."
   ]
  },
  {
   "cell_type": "markdown",
   "id": "8df1d8b3",
   "metadata": {},
   "source": [
    "## Data Cleaning"
   ]
  },
  {
   "cell_type": "code",
   "execution_count": 10,
   "id": "2d6a9fb2",
   "metadata": {},
   "outputs": [
    {
     "data": {
      "text/html": [
       "<div>\n",
       "<style scoped>\n",
       "    .dataframe tbody tr th:only-of-type {\n",
       "        vertical-align: middle;\n",
       "    }\n",
       "\n",
       "    .dataframe tbody tr th {\n",
       "        vertical-align: top;\n",
       "    }\n",
       "\n",
       "    .dataframe thead th {\n",
       "        text-align: right;\n",
       "    }\n",
       "</style>\n",
       "<table border=\"1\" class=\"dataframe\">\n",
       "  <thead>\n",
       "    <tr style=\"text-align: right;\">\n",
       "      <th></th>\n",
       "      <th>day</th>\n",
       "      <th>month</th>\n",
       "      <th>year</th>\n",
       "      <th>Temperature</th>\n",
       "      <th>RH</th>\n",
       "      <th>Ws</th>\n",
       "      <th>Rain</th>\n",
       "      <th>FFMC</th>\n",
       "      <th>DMC</th>\n",
       "      <th>DC</th>\n",
       "      <th>ISI</th>\n",
       "      <th>BUI</th>\n",
       "      <th>FWI</th>\n",
       "      <th>Classes</th>\n",
       "    </tr>\n",
       "  </thead>\n",
       "  <tbody>\n",
       "    <tr>\n",
       "      <th>122</th>\n",
       "      <td>Sidi-Bel Abbes Region Dataset</td>\n",
       "      <td>NaN</td>\n",
       "      <td>NaN</td>\n",
       "      <td>NaN</td>\n",
       "      <td>NaN</td>\n",
       "      <td>NaN</td>\n",
       "      <td>NaN</td>\n",
       "      <td>NaN</td>\n",
       "      <td>NaN</td>\n",
       "      <td>NaN</td>\n",
       "      <td>NaN</td>\n",
       "      <td>NaN</td>\n",
       "      <td>NaN</td>\n",
       "      <td>NaN</td>\n",
       "    </tr>\n",
       "    <tr>\n",
       "      <th>167</th>\n",
       "      <td>14</td>\n",
       "      <td>07</td>\n",
       "      <td>2012</td>\n",
       "      <td>37</td>\n",
       "      <td>37</td>\n",
       "      <td>18</td>\n",
       "      <td>0.2</td>\n",
       "      <td>88.9</td>\n",
       "      <td>12.9</td>\n",
       "      <td>14.6 9</td>\n",
       "      <td>12.5</td>\n",
       "      <td>10.4</td>\n",
       "      <td>fire</td>\n",
       "      <td>NaN</td>\n",
       "    </tr>\n",
       "  </tbody>\n",
       "</table>\n",
       "</div>"
      ],
      "text/plain": [
       "                               day month  year Temperature   RH   Ws Rain   \\\n",
       "122  Sidi-Bel Abbes Region Dataset   NaN   NaN         NaN  NaN  NaN   NaN   \n",
       "167                             14    07  2012          37   37   18   0.2   \n",
       "\n",
       "     FFMC   DMC      DC   ISI   BUI      FWI Classes    \n",
       "122   NaN   NaN     NaN   NaN   NaN      NaN       NaN  \n",
       "167  88.9  12.9  14.6 9  12.5  10.4  fire          NaN  "
      ]
     },
     "execution_count": 10,
     "metadata": {},
     "output_type": "execute_result"
    }
   ],
   "source": [
    "# Columns which has null values\n",
    "df[df.isnull().any(axis=1)]"
   ]
  },
  {
   "cell_type": "markdown",
   "id": "c77724a0",
   "metadata": {},
   "source": [
    "The dataset is converted into two sets based on Region from 122th index, \n",
    "we can make a new column based on the Region \n",
    "\n",
    " **1 : \"Bejaia Region Dataset\"**\n",
    " \n",
    " **2 : \"Sidi-Bel Abbes Region Dataset\"**"
   ]
  },
  {
   "cell_type": "markdown",
   "id": "54c06ead",
   "metadata": {},
   "source": [
    "**Add new column with region**"
   ]
  },
  {
   "cell_type": "code",
   "execution_count": 11,
   "id": "681253a6",
   "metadata": {},
   "outputs": [],
   "source": [
    "df.loc[:122,'Region']=1\n",
    "df.loc[122:,'Region']=2\n",
    "df[['Region']] = df[['Region']].astype(int)"
   ]
  },
  {
   "cell_type": "code",
   "execution_count": 12,
   "id": "72bdda76",
   "metadata": {},
   "outputs": [
    {
     "data": {
      "text/plain": [
       "day            0\n",
       "month          1\n",
       "year           1\n",
       "Temperature    1\n",
       " RH            1\n",
       " Ws            1\n",
       "Rain           1\n",
       "FFMC           1\n",
       "DMC            1\n",
       "DC             1\n",
       "ISI            1\n",
       "BUI            1\n",
       "FWI            1\n",
       "Classes        2\n",
       "Region         0\n",
       "dtype: int64"
      ]
     },
     "execution_count": 12,
     "metadata": {},
     "output_type": "execute_result"
    }
   ],
   "source": [
    "df.isnull().sum()"
   ]
  },
  {
   "cell_type": "code",
   "execution_count": 13,
   "id": "64292f62",
   "metadata": {},
   "outputs": [
    {
     "data": {
      "text/plain": [
       "(244, 15)"
      ]
     },
     "execution_count": 13,
     "metadata": {},
     "output_type": "execute_result"
    }
   ],
   "source": [
    "# Remove null or na values rows\n",
    "df =df.dropna().reset_index(drop=True) \n",
    "df.shape"
   ]
  },
  {
   "cell_type": "code",
   "execution_count": 14,
   "id": "8da595a9",
   "metadata": {},
   "outputs": [
    {
     "data": {
      "text/html": [
       "<div>\n",
       "<style scoped>\n",
       "    .dataframe tbody tr th:only-of-type {\n",
       "        vertical-align: middle;\n",
       "    }\n",
       "\n",
       "    .dataframe tbody tr th {\n",
       "        vertical-align: top;\n",
       "    }\n",
       "\n",
       "    .dataframe thead th {\n",
       "        text-align: right;\n",
       "    }\n",
       "</style>\n",
       "<table border=\"1\" class=\"dataframe\">\n",
       "  <thead>\n",
       "    <tr style=\"text-align: right;\">\n",
       "      <th></th>\n",
       "      <th>day</th>\n",
       "      <th>month</th>\n",
       "      <th>year</th>\n",
       "      <th>Temperature</th>\n",
       "      <th>RH</th>\n",
       "      <th>Ws</th>\n",
       "      <th>Rain</th>\n",
       "      <th>FFMC</th>\n",
       "      <th>DMC</th>\n",
       "      <th>DC</th>\n",
       "      <th>ISI</th>\n",
       "      <th>BUI</th>\n",
       "      <th>FWI</th>\n",
       "      <th>Classes</th>\n",
       "      <th>Region</th>\n",
       "    </tr>\n",
       "  </thead>\n",
       "  <tbody>\n",
       "    <tr>\n",
       "      <th>122</th>\n",
       "      <td>day</td>\n",
       "      <td>month</td>\n",
       "      <td>year</td>\n",
       "      <td>Temperature</td>\n",
       "      <td>RH</td>\n",
       "      <td>Ws</td>\n",
       "      <td>Rain</td>\n",
       "      <td>FFMC</td>\n",
       "      <td>DMC</td>\n",
       "      <td>DC</td>\n",
       "      <td>ISI</td>\n",
       "      <td>BUI</td>\n",
       "      <td>FWI</td>\n",
       "      <td>Classes</td>\n",
       "      <td>2</td>\n",
       "    </tr>\n",
       "  </tbody>\n",
       "</table>\n",
       "</div>"
      ],
      "text/plain": [
       "     day  month  year  Temperature   RH   Ws  Rain   FFMC  DMC  DC  ISI  BUI  \\\n",
       "122  day  month  year  Temperature   RH   Ws  Rain   FFMC  DMC  DC  ISI  BUI   \n",
       "\n",
       "     FWI  Classes    Region  \n",
       "122  FWI  Classes         2  "
      ]
     },
     "execution_count": 14,
     "metadata": {},
     "output_type": "execute_result"
    }
   ],
   "source": [
    "# Column which has string\n",
    "df.iloc[[122]]"
   ]
  },
  {
   "cell_type": "markdown",
   "id": "8fa31ab9",
   "metadata": {},
   "source": [
    "**Null and other unwanted rows are removed**"
   ]
  },
  {
   "cell_type": "code",
   "execution_count": 15,
   "id": "768489eb",
   "metadata": {},
   "outputs": [],
   "source": [
    "#remove 122th column\n",
    "df= df.drop(122).reset_index(drop=True)"
   ]
  },
  {
   "cell_type": "markdown",
   "id": "afd9bc46",
   "metadata": {},
   "source": [
    "**Some column names were misspaced so we can fix it**"
   ]
  },
  {
   "cell_type": "code",
   "execution_count": 16,
   "id": "513996d3",
   "metadata": {},
   "outputs": [
    {
     "data": {
      "text/plain": [
       "Index(['day', 'month', 'year', 'Temperature', ' RH', ' Ws', 'Rain ', 'FFMC',\n",
       "       'DMC', 'DC', 'ISI', 'BUI', 'FWI', 'Classes  ', 'Region'],\n",
       "      dtype='object')"
      ]
     },
     "execution_count": 16,
     "metadata": {},
     "output_type": "execute_result"
    }
   ],
   "source": [
    "# List out column names to check \n",
    "df.columns"
   ]
  },
  {
   "cell_type": "markdown",
   "id": "64761aeb",
   "metadata": {},
   "source": [
    "Looks like the values were misspaced so we can use **str.strip()** method"
   ]
  },
  {
   "cell_type": "code",
   "execution_count": 17,
   "id": "a4a12efc",
   "metadata": {},
   "outputs": [
    {
     "data": {
      "text/plain": [
       "Index(['day', 'month', 'year', 'Temperature', 'RH', 'Ws', 'Rain', 'FFMC',\n",
       "       'DMC', 'DC', 'ISI', 'BUI', 'FWI', 'Classes', 'Region'],\n",
       "      dtype='object')"
      ]
     },
     "execution_count": 17,
     "metadata": {},
     "output_type": "execute_result"
    }
   ],
   "source": [
    "# Spaces were fixed in the column names\n",
    "df.columns = df.columns.str.strip()\n",
    "df.columns "
   ]
  },
  {
   "cell_type": "markdown",
   "id": "78119ca3",
   "metadata": {},
   "source": [
    "**Changing the required columns as integer data type**"
   ]
  },
  {
   "cell_type": "code",
   "execution_count": 18,
   "id": "a1d94bbe",
   "metadata": {},
   "outputs": [],
   "source": [
    "df[['month', 'day', 'year', 'Temperature','RH', 'Ws']] = df[['month', 'day', 'year', 'Temperature','RH', 'Ws']].astype(int)"
   ]
  },
  {
   "cell_type": "markdown",
   "id": "c05cf89e",
   "metadata": {},
   "source": [
    "**Changing the other columns to Float data type**"
   ]
  },
  {
   "cell_type": "code",
   "execution_count": 19,
   "id": "95ca2e82",
   "metadata": {},
   "outputs": [],
   "source": [
    "objects = [features for features in df.columns if df[features].dtypes=='O']\n",
    "for i in objects:\n",
    "    if i != 'Classes':\n",
    "        df[i] = df[i].astype(float)"
   ]
  },
  {
   "cell_type": "code",
   "execution_count": 20,
   "id": "14fdeba9",
   "metadata": {},
   "outputs": [
    {
     "name": "stdout",
     "output_type": "stream",
     "text": [
      "<class 'pandas.core.frame.DataFrame'>\n",
      "RangeIndex: 243 entries, 0 to 242\n",
      "Data columns (total 15 columns):\n",
      " #   Column       Non-Null Count  Dtype  \n",
      "---  ------       --------------  -----  \n",
      " 0   day          243 non-null    int32  \n",
      " 1   month        243 non-null    int32  \n",
      " 2   year         243 non-null    int32  \n",
      " 3   Temperature  243 non-null    int32  \n",
      " 4   RH           243 non-null    int32  \n",
      " 5   Ws           243 non-null    int32  \n",
      " 6   Rain         243 non-null    float64\n",
      " 7   FFMC         243 non-null    float64\n",
      " 8   DMC          243 non-null    float64\n",
      " 9   DC           243 non-null    float64\n",
      " 10  ISI          243 non-null    float64\n",
      " 11  BUI          243 non-null    float64\n",
      " 12  FWI          243 non-null    float64\n",
      " 13  Classes      243 non-null    object \n",
      " 14  Region       243 non-null    int32  \n",
      "dtypes: float64(7), int32(7), object(1)\n",
      "memory usage: 22.0+ KB\n"
     ]
    }
   ],
   "source": [
    "# Final datatypes check\n",
    "df.info()"
   ]
  },
  {
   "cell_type": "code",
   "execution_count": 21,
   "id": "e1d0b03a",
   "metadata": {},
   "outputs": [
    {
     "data": {
      "text/html": [
       "<div>\n",
       "<style scoped>\n",
       "    .dataframe tbody tr th:only-of-type {\n",
       "        vertical-align: middle;\n",
       "    }\n",
       "\n",
       "    .dataframe tbody tr th {\n",
       "        vertical-align: top;\n",
       "    }\n",
       "\n",
       "    .dataframe thead th {\n",
       "        text-align: right;\n",
       "    }\n",
       "</style>\n",
       "<table border=\"1\" class=\"dataframe\">\n",
       "  <thead>\n",
       "    <tr style=\"text-align: right;\">\n",
       "      <th></th>\n",
       "      <th>count</th>\n",
       "      <th>mean</th>\n",
       "      <th>std</th>\n",
       "      <th>min</th>\n",
       "      <th>25%</th>\n",
       "      <th>50%</th>\n",
       "      <th>75%</th>\n",
       "      <th>max</th>\n",
       "    </tr>\n",
       "  </thead>\n",
       "  <tbody>\n",
       "    <tr>\n",
       "      <th>day</th>\n",
       "      <td>243.0</td>\n",
       "      <td>15.761317</td>\n",
       "      <td>8.842552</td>\n",
       "      <td>1.0</td>\n",
       "      <td>8.00</td>\n",
       "      <td>16.0</td>\n",
       "      <td>23.00</td>\n",
       "      <td>31.0</td>\n",
       "    </tr>\n",
       "    <tr>\n",
       "      <th>month</th>\n",
       "      <td>243.0</td>\n",
       "      <td>7.502058</td>\n",
       "      <td>1.114793</td>\n",
       "      <td>6.0</td>\n",
       "      <td>7.00</td>\n",
       "      <td>8.0</td>\n",
       "      <td>8.00</td>\n",
       "      <td>9.0</td>\n",
       "    </tr>\n",
       "    <tr>\n",
       "      <th>year</th>\n",
       "      <td>243.0</td>\n",
       "      <td>2012.000000</td>\n",
       "      <td>0.000000</td>\n",
       "      <td>2012.0</td>\n",
       "      <td>2012.00</td>\n",
       "      <td>2012.0</td>\n",
       "      <td>2012.00</td>\n",
       "      <td>2012.0</td>\n",
       "    </tr>\n",
       "    <tr>\n",
       "      <th>Temperature</th>\n",
       "      <td>243.0</td>\n",
       "      <td>32.152263</td>\n",
       "      <td>3.628039</td>\n",
       "      <td>22.0</td>\n",
       "      <td>30.00</td>\n",
       "      <td>32.0</td>\n",
       "      <td>35.00</td>\n",
       "      <td>42.0</td>\n",
       "    </tr>\n",
       "    <tr>\n",
       "      <th>RH</th>\n",
       "      <td>243.0</td>\n",
       "      <td>62.041152</td>\n",
       "      <td>14.828160</td>\n",
       "      <td>21.0</td>\n",
       "      <td>52.50</td>\n",
       "      <td>63.0</td>\n",
       "      <td>73.50</td>\n",
       "      <td>90.0</td>\n",
       "    </tr>\n",
       "    <tr>\n",
       "      <th>Ws</th>\n",
       "      <td>243.0</td>\n",
       "      <td>15.493827</td>\n",
       "      <td>2.811385</td>\n",
       "      <td>6.0</td>\n",
       "      <td>14.00</td>\n",
       "      <td>15.0</td>\n",
       "      <td>17.00</td>\n",
       "      <td>29.0</td>\n",
       "    </tr>\n",
       "    <tr>\n",
       "      <th>Rain</th>\n",
       "      <td>243.0</td>\n",
       "      <td>0.762963</td>\n",
       "      <td>2.003207</td>\n",
       "      <td>0.0</td>\n",
       "      <td>0.00</td>\n",
       "      <td>0.0</td>\n",
       "      <td>0.50</td>\n",
       "      <td>16.8</td>\n",
       "    </tr>\n",
       "    <tr>\n",
       "      <th>FFMC</th>\n",
       "      <td>243.0</td>\n",
       "      <td>77.842387</td>\n",
       "      <td>14.349641</td>\n",
       "      <td>28.6</td>\n",
       "      <td>71.85</td>\n",
       "      <td>83.3</td>\n",
       "      <td>88.30</td>\n",
       "      <td>96.0</td>\n",
       "    </tr>\n",
       "    <tr>\n",
       "      <th>DMC</th>\n",
       "      <td>243.0</td>\n",
       "      <td>14.680658</td>\n",
       "      <td>12.393040</td>\n",
       "      <td>0.7</td>\n",
       "      <td>5.80</td>\n",
       "      <td>11.3</td>\n",
       "      <td>20.80</td>\n",
       "      <td>65.9</td>\n",
       "    </tr>\n",
       "    <tr>\n",
       "      <th>DC</th>\n",
       "      <td>243.0</td>\n",
       "      <td>49.430864</td>\n",
       "      <td>47.665606</td>\n",
       "      <td>6.9</td>\n",
       "      <td>12.35</td>\n",
       "      <td>33.1</td>\n",
       "      <td>69.10</td>\n",
       "      <td>220.4</td>\n",
       "    </tr>\n",
       "    <tr>\n",
       "      <th>ISI</th>\n",
       "      <td>243.0</td>\n",
       "      <td>4.742387</td>\n",
       "      <td>4.154234</td>\n",
       "      <td>0.0</td>\n",
       "      <td>1.40</td>\n",
       "      <td>3.5</td>\n",
       "      <td>7.25</td>\n",
       "      <td>19.0</td>\n",
       "    </tr>\n",
       "    <tr>\n",
       "      <th>BUI</th>\n",
       "      <td>243.0</td>\n",
       "      <td>16.690535</td>\n",
       "      <td>14.228421</td>\n",
       "      <td>1.1</td>\n",
       "      <td>6.00</td>\n",
       "      <td>12.4</td>\n",
       "      <td>22.65</td>\n",
       "      <td>68.0</td>\n",
       "    </tr>\n",
       "    <tr>\n",
       "      <th>FWI</th>\n",
       "      <td>243.0</td>\n",
       "      <td>7.035391</td>\n",
       "      <td>7.440568</td>\n",
       "      <td>0.0</td>\n",
       "      <td>0.70</td>\n",
       "      <td>4.2</td>\n",
       "      <td>11.45</td>\n",
       "      <td>31.1</td>\n",
       "    </tr>\n",
       "    <tr>\n",
       "      <th>Region</th>\n",
       "      <td>243.0</td>\n",
       "      <td>1.497942</td>\n",
       "      <td>0.501028</td>\n",
       "      <td>1.0</td>\n",
       "      <td>1.00</td>\n",
       "      <td>1.0</td>\n",
       "      <td>2.00</td>\n",
       "      <td>2.0</td>\n",
       "    </tr>\n",
       "  </tbody>\n",
       "</table>\n",
       "</div>"
      ],
      "text/plain": [
       "             count         mean        std     min      25%     50%      75%  \\\n",
       "day          243.0    15.761317   8.842552     1.0     8.00    16.0    23.00   \n",
       "month        243.0     7.502058   1.114793     6.0     7.00     8.0     8.00   \n",
       "year         243.0  2012.000000   0.000000  2012.0  2012.00  2012.0  2012.00   \n",
       "Temperature  243.0    32.152263   3.628039    22.0    30.00    32.0    35.00   \n",
       "RH           243.0    62.041152  14.828160    21.0    52.50    63.0    73.50   \n",
       "Ws           243.0    15.493827   2.811385     6.0    14.00    15.0    17.00   \n",
       "Rain         243.0     0.762963   2.003207     0.0     0.00     0.0     0.50   \n",
       "FFMC         243.0    77.842387  14.349641    28.6    71.85    83.3    88.30   \n",
       "DMC          243.0    14.680658  12.393040     0.7     5.80    11.3    20.80   \n",
       "DC           243.0    49.430864  47.665606     6.9    12.35    33.1    69.10   \n",
       "ISI          243.0     4.742387   4.154234     0.0     1.40     3.5     7.25   \n",
       "BUI          243.0    16.690535  14.228421     1.1     6.00    12.4    22.65   \n",
       "FWI          243.0     7.035391   7.440568     0.0     0.70     4.2    11.45   \n",
       "Region       243.0     1.497942   0.501028     1.0     1.00     1.0     2.00   \n",
       "\n",
       "                max  \n",
       "day            31.0  \n",
       "month           9.0  \n",
       "year         2012.0  \n",
       "Temperature    42.0  \n",
       "RH             90.0  \n",
       "Ws             29.0  \n",
       "Rain           16.8  \n",
       "FFMC           96.0  \n",
       "DMC            65.9  \n",
       "DC            220.4  \n",
       "ISI            19.0  \n",
       "BUI            68.0  \n",
       "FWI            31.1  \n",
       "Region          2.0  "
      ]
     },
     "execution_count": 21,
     "metadata": {},
     "output_type": "execute_result"
    }
   ],
   "source": [
    "df.describe().T"
   ]
  },
  {
   "cell_type": "code",
   "execution_count": 22,
   "id": "26497667",
   "metadata": {},
   "outputs": [
    {
     "data": {
      "text/html": [
       "<div>\n",
       "<style scoped>\n",
       "    .dataframe tbody tr th:only-of-type {\n",
       "        vertical-align: middle;\n",
       "    }\n",
       "\n",
       "    .dataframe tbody tr th {\n",
       "        vertical-align: top;\n",
       "    }\n",
       "\n",
       "    .dataframe thead th {\n",
       "        text-align: right;\n",
       "    }\n",
       "</style>\n",
       "<table border=\"1\" class=\"dataframe\">\n",
       "  <thead>\n",
       "    <tr style=\"text-align: right;\">\n",
       "      <th></th>\n",
       "      <th>day</th>\n",
       "      <th>month</th>\n",
       "      <th>year</th>\n",
       "      <th>Temperature</th>\n",
       "      <th>RH</th>\n",
       "      <th>Ws</th>\n",
       "      <th>Rain</th>\n",
       "      <th>FFMC</th>\n",
       "      <th>DMC</th>\n",
       "      <th>DC</th>\n",
       "      <th>ISI</th>\n",
       "      <th>BUI</th>\n",
       "      <th>FWI</th>\n",
       "      <th>Classes</th>\n",
       "      <th>Region</th>\n",
       "    </tr>\n",
       "  </thead>\n",
       "  <tbody>\n",
       "    <tr>\n",
       "      <th>0</th>\n",
       "      <td>1</td>\n",
       "      <td>6</td>\n",
       "      <td>2012</td>\n",
       "      <td>29</td>\n",
       "      <td>57</td>\n",
       "      <td>18</td>\n",
       "      <td>0.0</td>\n",
       "      <td>65.7</td>\n",
       "      <td>3.4</td>\n",
       "      <td>7.6</td>\n",
       "      <td>1.3</td>\n",
       "      <td>3.4</td>\n",
       "      <td>0.5</td>\n",
       "      <td>not fire</td>\n",
       "      <td>1</td>\n",
       "    </tr>\n",
       "    <tr>\n",
       "      <th>1</th>\n",
       "      <td>2</td>\n",
       "      <td>6</td>\n",
       "      <td>2012</td>\n",
       "      <td>29</td>\n",
       "      <td>61</td>\n",
       "      <td>13</td>\n",
       "      <td>1.3</td>\n",
       "      <td>64.4</td>\n",
       "      <td>4.1</td>\n",
       "      <td>7.6</td>\n",
       "      <td>1.0</td>\n",
       "      <td>3.9</td>\n",
       "      <td>0.4</td>\n",
       "      <td>not fire</td>\n",
       "      <td>1</td>\n",
       "    </tr>\n",
       "    <tr>\n",
       "      <th>2</th>\n",
       "      <td>3</td>\n",
       "      <td>6</td>\n",
       "      <td>2012</td>\n",
       "      <td>26</td>\n",
       "      <td>82</td>\n",
       "      <td>22</td>\n",
       "      <td>13.1</td>\n",
       "      <td>47.1</td>\n",
       "      <td>2.5</td>\n",
       "      <td>7.1</td>\n",
       "      <td>0.3</td>\n",
       "      <td>2.7</td>\n",
       "      <td>0.1</td>\n",
       "      <td>not fire</td>\n",
       "      <td>1</td>\n",
       "    </tr>\n",
       "    <tr>\n",
       "      <th>3</th>\n",
       "      <td>4</td>\n",
       "      <td>6</td>\n",
       "      <td>2012</td>\n",
       "      <td>25</td>\n",
       "      <td>89</td>\n",
       "      <td>13</td>\n",
       "      <td>2.5</td>\n",
       "      <td>28.6</td>\n",
       "      <td>1.3</td>\n",
       "      <td>6.9</td>\n",
       "      <td>0.0</td>\n",
       "      <td>1.7</td>\n",
       "      <td>0.0</td>\n",
       "      <td>not fire</td>\n",
       "      <td>1</td>\n",
       "    </tr>\n",
       "    <tr>\n",
       "      <th>4</th>\n",
       "      <td>5</td>\n",
       "      <td>6</td>\n",
       "      <td>2012</td>\n",
       "      <td>27</td>\n",
       "      <td>77</td>\n",
       "      <td>16</td>\n",
       "      <td>0.0</td>\n",
       "      <td>64.8</td>\n",
       "      <td>3.0</td>\n",
       "      <td>14.2</td>\n",
       "      <td>1.2</td>\n",
       "      <td>3.9</td>\n",
       "      <td>0.5</td>\n",
       "      <td>not fire</td>\n",
       "      <td>1</td>\n",
       "    </tr>\n",
       "    <tr>\n",
       "      <th>...</th>\n",
       "      <td>...</td>\n",
       "      <td>...</td>\n",
       "      <td>...</td>\n",
       "      <td>...</td>\n",
       "      <td>...</td>\n",
       "      <td>...</td>\n",
       "      <td>...</td>\n",
       "      <td>...</td>\n",
       "      <td>...</td>\n",
       "      <td>...</td>\n",
       "      <td>...</td>\n",
       "      <td>...</td>\n",
       "      <td>...</td>\n",
       "      <td>...</td>\n",
       "      <td>...</td>\n",
       "    </tr>\n",
       "    <tr>\n",
       "      <th>238</th>\n",
       "      <td>26</td>\n",
       "      <td>9</td>\n",
       "      <td>2012</td>\n",
       "      <td>30</td>\n",
       "      <td>65</td>\n",
       "      <td>14</td>\n",
       "      <td>0.0</td>\n",
       "      <td>85.4</td>\n",
       "      <td>16.0</td>\n",
       "      <td>44.5</td>\n",
       "      <td>4.5</td>\n",
       "      <td>16.9</td>\n",
       "      <td>6.5</td>\n",
       "      <td>fire</td>\n",
       "      <td>2</td>\n",
       "    </tr>\n",
       "    <tr>\n",
       "      <th>239</th>\n",
       "      <td>27</td>\n",
       "      <td>9</td>\n",
       "      <td>2012</td>\n",
       "      <td>28</td>\n",
       "      <td>87</td>\n",
       "      <td>15</td>\n",
       "      <td>4.4</td>\n",
       "      <td>41.1</td>\n",
       "      <td>6.5</td>\n",
       "      <td>8.0</td>\n",
       "      <td>0.1</td>\n",
       "      <td>6.2</td>\n",
       "      <td>0.0</td>\n",
       "      <td>not fire</td>\n",
       "      <td>2</td>\n",
       "    </tr>\n",
       "    <tr>\n",
       "      <th>240</th>\n",
       "      <td>28</td>\n",
       "      <td>9</td>\n",
       "      <td>2012</td>\n",
       "      <td>27</td>\n",
       "      <td>87</td>\n",
       "      <td>29</td>\n",
       "      <td>0.5</td>\n",
       "      <td>45.9</td>\n",
       "      <td>3.5</td>\n",
       "      <td>7.9</td>\n",
       "      <td>0.4</td>\n",
       "      <td>3.4</td>\n",
       "      <td>0.2</td>\n",
       "      <td>not fire</td>\n",
       "      <td>2</td>\n",
       "    </tr>\n",
       "    <tr>\n",
       "      <th>241</th>\n",
       "      <td>29</td>\n",
       "      <td>9</td>\n",
       "      <td>2012</td>\n",
       "      <td>24</td>\n",
       "      <td>54</td>\n",
       "      <td>18</td>\n",
       "      <td>0.1</td>\n",
       "      <td>79.7</td>\n",
       "      <td>4.3</td>\n",
       "      <td>15.2</td>\n",
       "      <td>1.7</td>\n",
       "      <td>5.1</td>\n",
       "      <td>0.7</td>\n",
       "      <td>not fire</td>\n",
       "      <td>2</td>\n",
       "    </tr>\n",
       "    <tr>\n",
       "      <th>242</th>\n",
       "      <td>30</td>\n",
       "      <td>9</td>\n",
       "      <td>2012</td>\n",
       "      <td>24</td>\n",
       "      <td>64</td>\n",
       "      <td>15</td>\n",
       "      <td>0.2</td>\n",
       "      <td>67.3</td>\n",
       "      <td>3.8</td>\n",
       "      <td>16.5</td>\n",
       "      <td>1.2</td>\n",
       "      <td>4.8</td>\n",
       "      <td>0.5</td>\n",
       "      <td>not fire</td>\n",
       "      <td>2</td>\n",
       "    </tr>\n",
       "  </tbody>\n",
       "</table>\n",
       "<p>243 rows × 15 columns</p>\n",
       "</div>"
      ],
      "text/plain": [
       "     day  month  year  Temperature  RH  Ws  Rain  FFMC   DMC    DC  ISI   BUI  \\\n",
       "0      1      6  2012           29  57  18   0.0  65.7   3.4   7.6  1.3   3.4   \n",
       "1      2      6  2012           29  61  13   1.3  64.4   4.1   7.6  1.0   3.9   \n",
       "2      3      6  2012           26  82  22  13.1  47.1   2.5   7.1  0.3   2.7   \n",
       "3      4      6  2012           25  89  13   2.5  28.6   1.3   6.9  0.0   1.7   \n",
       "4      5      6  2012           27  77  16   0.0  64.8   3.0  14.2  1.2   3.9   \n",
       "..   ...    ...   ...          ...  ..  ..   ...   ...   ...   ...  ...   ...   \n",
       "238   26      9  2012           30  65  14   0.0  85.4  16.0  44.5  4.5  16.9   \n",
       "239   27      9  2012           28  87  15   4.4  41.1   6.5   8.0  0.1   6.2   \n",
       "240   28      9  2012           27  87  29   0.5  45.9   3.5   7.9  0.4   3.4   \n",
       "241   29      9  2012           24  54  18   0.1  79.7   4.3  15.2  1.7   5.1   \n",
       "242   30      9  2012           24  64  15   0.2  67.3   3.8  16.5  1.2   4.8   \n",
       "\n",
       "     FWI       Classes  Region  \n",
       "0    0.5   not fire          1  \n",
       "1    0.4   not fire          1  \n",
       "2    0.1   not fire          1  \n",
       "3    0.0   not fire          1  \n",
       "4    0.5   not fire          1  \n",
       "..   ...           ...     ...  \n",
       "238  6.5       fire          2  \n",
       "239  0.0   not fire          2  \n",
       "240  0.2   not fire          2  \n",
       "241  0.7   not fire          2  \n",
       "242  0.5  not fire           2  \n",
       "\n",
       "[243 rows x 15 columns]"
      ]
     },
     "execution_count": 22,
     "metadata": {},
     "output_type": "execute_result"
    }
   ],
   "source": [
    "df"
   ]
  },
  {
   "cell_type": "markdown",
   "id": "f38a8aef",
   "metadata": {},
   "source": [
    "**Data Cleaning in target variable**"
   ]
  },
  {
   "cell_type": "code",
   "execution_count": 23,
   "id": "016cdad4",
   "metadata": {},
   "outputs": [
    {
     "data": {
      "text/plain": [
       "fire             131\n",
       "not fire         101\n",
       "fire               4\n",
       "fire               2\n",
       "not fire           2\n",
       "not fire           1\n",
       "not fire           1\n",
       "not fire           1\n",
       "Name: Classes, dtype: int64"
      ]
     },
     "execution_count": 23,
     "metadata": {},
     "output_type": "execute_result"
    }
   ],
   "source": [
    "# Check Unique values of target variable\n",
    "df.Classes.value_counts()"
   ]
  },
  {
   "cell_type": "markdown",
   "id": "08d81f08",
   "metadata": {},
   "source": [
    "Looks like the values were misspaced so we can use **str.strip()** method"
   ]
  },
  {
   "cell_type": "code",
   "execution_count": 24,
   "id": "500fa60f",
   "metadata": {},
   "outputs": [],
   "source": [
    "# Strip mispaced values\n",
    "df.Classes = df.Classes.str.strip()"
   ]
  },
  {
   "cell_type": "code",
   "execution_count": 25,
   "id": "3e19d120",
   "metadata": {},
   "outputs": [
    {
     "data": {
      "text/plain": [
       "fire        137\n",
       "not fire    106\n",
       "Name: Classes, dtype: int64"
      ]
     },
     "execution_count": 25,
     "metadata": {},
     "output_type": "execute_result"
    }
   ],
   "source": [
    "df.Classes.value_counts()"
   ]
  },
  {
   "cell_type": "markdown",
   "id": "35c872f6",
   "metadata": {},
   "source": [
    "#### Region 1 (Bejaia Region)"
   ]
  },
  {
   "cell_type": "code",
   "execution_count": 26,
   "id": "a114fde8",
   "metadata": {},
   "outputs": [
    {
     "data": {
      "text/html": [
       "<div>\n",
       "<style scoped>\n",
       "    .dataframe tbody tr th:only-of-type {\n",
       "        vertical-align: middle;\n",
       "    }\n",
       "\n",
       "    .dataframe tbody tr th {\n",
       "        vertical-align: top;\n",
       "    }\n",
       "\n",
       "    .dataframe thead th {\n",
       "        text-align: right;\n",
       "    }\n",
       "</style>\n",
       "<table border=\"1\" class=\"dataframe\">\n",
       "  <thead>\n",
       "    <tr style=\"text-align: right;\">\n",
       "      <th></th>\n",
       "      <th>day</th>\n",
       "      <th>month</th>\n",
       "      <th>year</th>\n",
       "      <th>Temperature</th>\n",
       "      <th>RH</th>\n",
       "      <th>Ws</th>\n",
       "      <th>Rain</th>\n",
       "      <th>FFMC</th>\n",
       "      <th>DMC</th>\n",
       "      <th>DC</th>\n",
       "      <th>ISI</th>\n",
       "      <th>BUI</th>\n",
       "      <th>FWI</th>\n",
       "      <th>Classes</th>\n",
       "      <th>Region</th>\n",
       "    </tr>\n",
       "  </thead>\n",
       "  <tbody>\n",
       "    <tr>\n",
       "      <th>0</th>\n",
       "      <td>1</td>\n",
       "      <td>6</td>\n",
       "      <td>2012</td>\n",
       "      <td>29</td>\n",
       "      <td>57</td>\n",
       "      <td>18</td>\n",
       "      <td>0.0</td>\n",
       "      <td>65.7</td>\n",
       "      <td>3.4</td>\n",
       "      <td>7.6</td>\n",
       "      <td>1.3</td>\n",
       "      <td>3.4</td>\n",
       "      <td>0.5</td>\n",
       "      <td>not fire</td>\n",
       "      <td>1</td>\n",
       "    </tr>\n",
       "    <tr>\n",
       "      <th>1</th>\n",
       "      <td>2</td>\n",
       "      <td>6</td>\n",
       "      <td>2012</td>\n",
       "      <td>29</td>\n",
       "      <td>61</td>\n",
       "      <td>13</td>\n",
       "      <td>1.3</td>\n",
       "      <td>64.4</td>\n",
       "      <td>4.1</td>\n",
       "      <td>7.6</td>\n",
       "      <td>1.0</td>\n",
       "      <td>3.9</td>\n",
       "      <td>0.4</td>\n",
       "      <td>not fire</td>\n",
       "      <td>1</td>\n",
       "    </tr>\n",
       "    <tr>\n",
       "      <th>2</th>\n",
       "      <td>3</td>\n",
       "      <td>6</td>\n",
       "      <td>2012</td>\n",
       "      <td>26</td>\n",
       "      <td>82</td>\n",
       "      <td>22</td>\n",
       "      <td>13.1</td>\n",
       "      <td>47.1</td>\n",
       "      <td>2.5</td>\n",
       "      <td>7.1</td>\n",
       "      <td>0.3</td>\n",
       "      <td>2.7</td>\n",
       "      <td>0.1</td>\n",
       "      <td>not fire</td>\n",
       "      <td>1</td>\n",
       "    </tr>\n",
       "    <tr>\n",
       "      <th>3</th>\n",
       "      <td>4</td>\n",
       "      <td>6</td>\n",
       "      <td>2012</td>\n",
       "      <td>25</td>\n",
       "      <td>89</td>\n",
       "      <td>13</td>\n",
       "      <td>2.5</td>\n",
       "      <td>28.6</td>\n",
       "      <td>1.3</td>\n",
       "      <td>6.9</td>\n",
       "      <td>0.0</td>\n",
       "      <td>1.7</td>\n",
       "      <td>0.0</td>\n",
       "      <td>not fire</td>\n",
       "      <td>1</td>\n",
       "    </tr>\n",
       "    <tr>\n",
       "      <th>4</th>\n",
       "      <td>5</td>\n",
       "      <td>6</td>\n",
       "      <td>2012</td>\n",
       "      <td>27</td>\n",
       "      <td>77</td>\n",
       "      <td>16</td>\n",
       "      <td>0.0</td>\n",
       "      <td>64.8</td>\n",
       "      <td>3.0</td>\n",
       "      <td>14.2</td>\n",
       "      <td>1.2</td>\n",
       "      <td>3.9</td>\n",
       "      <td>0.5</td>\n",
       "      <td>not fire</td>\n",
       "      <td>1</td>\n",
       "    </tr>\n",
       "    <tr>\n",
       "      <th>...</th>\n",
       "      <td>...</td>\n",
       "      <td>...</td>\n",
       "      <td>...</td>\n",
       "      <td>...</td>\n",
       "      <td>...</td>\n",
       "      <td>...</td>\n",
       "      <td>...</td>\n",
       "      <td>...</td>\n",
       "      <td>...</td>\n",
       "      <td>...</td>\n",
       "      <td>...</td>\n",
       "      <td>...</td>\n",
       "      <td>...</td>\n",
       "      <td>...</td>\n",
       "      <td>...</td>\n",
       "    </tr>\n",
       "    <tr>\n",
       "      <th>117</th>\n",
       "      <td>26</td>\n",
       "      <td>9</td>\n",
       "      <td>2012</td>\n",
       "      <td>31</td>\n",
       "      <td>54</td>\n",
       "      <td>11</td>\n",
       "      <td>0.0</td>\n",
       "      <td>82.0</td>\n",
       "      <td>6.0</td>\n",
       "      <td>16.3</td>\n",
       "      <td>2.5</td>\n",
       "      <td>6.2</td>\n",
       "      <td>1.7</td>\n",
       "      <td>not fire</td>\n",
       "      <td>1</td>\n",
       "    </tr>\n",
       "    <tr>\n",
       "      <th>118</th>\n",
       "      <td>27</td>\n",
       "      <td>9</td>\n",
       "      <td>2012</td>\n",
       "      <td>31</td>\n",
       "      <td>66</td>\n",
       "      <td>11</td>\n",
       "      <td>0.0</td>\n",
       "      <td>85.7</td>\n",
       "      <td>8.3</td>\n",
       "      <td>24.9</td>\n",
       "      <td>4.0</td>\n",
       "      <td>9.0</td>\n",
       "      <td>4.1</td>\n",
       "      <td>fire</td>\n",
       "      <td>1</td>\n",
       "    </tr>\n",
       "    <tr>\n",
       "      <th>119</th>\n",
       "      <td>28</td>\n",
       "      <td>9</td>\n",
       "      <td>2012</td>\n",
       "      <td>32</td>\n",
       "      <td>47</td>\n",
       "      <td>14</td>\n",
       "      <td>0.7</td>\n",
       "      <td>77.5</td>\n",
       "      <td>7.1</td>\n",
       "      <td>8.8</td>\n",
       "      <td>1.8</td>\n",
       "      <td>6.8</td>\n",
       "      <td>0.9</td>\n",
       "      <td>not fire</td>\n",
       "      <td>1</td>\n",
       "    </tr>\n",
       "    <tr>\n",
       "      <th>120</th>\n",
       "      <td>29</td>\n",
       "      <td>9</td>\n",
       "      <td>2012</td>\n",
       "      <td>26</td>\n",
       "      <td>80</td>\n",
       "      <td>16</td>\n",
       "      <td>1.8</td>\n",
       "      <td>47.4</td>\n",
       "      <td>2.9</td>\n",
       "      <td>7.7</td>\n",
       "      <td>0.3</td>\n",
       "      <td>3.0</td>\n",
       "      <td>0.1</td>\n",
       "      <td>not fire</td>\n",
       "      <td>1</td>\n",
       "    </tr>\n",
       "    <tr>\n",
       "      <th>121</th>\n",
       "      <td>30</td>\n",
       "      <td>9</td>\n",
       "      <td>2012</td>\n",
       "      <td>25</td>\n",
       "      <td>78</td>\n",
       "      <td>14</td>\n",
       "      <td>1.4</td>\n",
       "      <td>45.0</td>\n",
       "      <td>1.9</td>\n",
       "      <td>7.5</td>\n",
       "      <td>0.2</td>\n",
       "      <td>2.4</td>\n",
       "      <td>0.1</td>\n",
       "      <td>not fire</td>\n",
       "      <td>1</td>\n",
       "    </tr>\n",
       "  </tbody>\n",
       "</table>\n",
       "<p>122 rows × 15 columns</p>\n",
       "</div>"
      ],
      "text/plain": [
       "     day  month  year  Temperature  RH  Ws  Rain  FFMC  DMC    DC  ISI  BUI  \\\n",
       "0      1      6  2012           29  57  18   0.0  65.7  3.4   7.6  1.3  3.4   \n",
       "1      2      6  2012           29  61  13   1.3  64.4  4.1   7.6  1.0  3.9   \n",
       "2      3      6  2012           26  82  22  13.1  47.1  2.5   7.1  0.3  2.7   \n",
       "3      4      6  2012           25  89  13   2.5  28.6  1.3   6.9  0.0  1.7   \n",
       "4      5      6  2012           27  77  16   0.0  64.8  3.0  14.2  1.2  3.9   \n",
       "..   ...    ...   ...          ...  ..  ..   ...   ...  ...   ...  ...  ...   \n",
       "117   26      9  2012           31  54  11   0.0  82.0  6.0  16.3  2.5  6.2   \n",
       "118   27      9  2012           31  66  11   0.0  85.7  8.3  24.9  4.0  9.0   \n",
       "119   28      9  2012           32  47  14   0.7  77.5  7.1   8.8  1.8  6.8   \n",
       "120   29      9  2012           26  80  16   1.8  47.4  2.9   7.7  0.3  3.0   \n",
       "121   30      9  2012           25  78  14   1.4  45.0  1.9   7.5  0.2  2.4   \n",
       "\n",
       "     FWI   Classes  Region  \n",
       "0    0.5  not fire       1  \n",
       "1    0.4  not fire       1  \n",
       "2    0.1  not fire       1  \n",
       "3    0.0  not fire       1  \n",
       "4    0.5  not fire       1  \n",
       "..   ...       ...     ...  \n",
       "117  1.7  not fire       1  \n",
       "118  4.1      fire       1  \n",
       "119  0.9  not fire       1  \n",
       "120  0.1  not fire       1  \n",
       "121  0.1  not fire       1  \n",
       "\n",
       "[122 rows x 15 columns]"
      ]
     },
     "execution_count": 26,
     "metadata": {},
     "output_type": "execute_result"
    }
   ],
   "source": [
    "df[:122]"
   ]
  },
  {
   "cell_type": "markdown",
   "id": "1a09162e",
   "metadata": {},
   "source": [
    "#### Region 2 (Sidi-Bel Abbes Region)"
   ]
  },
  {
   "cell_type": "code",
   "execution_count": 27,
   "id": "4cddaf9a",
   "metadata": {},
   "outputs": [
    {
     "data": {
      "text/html": [
       "<div>\n",
       "<style scoped>\n",
       "    .dataframe tbody tr th:only-of-type {\n",
       "        vertical-align: middle;\n",
       "    }\n",
       "\n",
       "    .dataframe tbody tr th {\n",
       "        vertical-align: top;\n",
       "    }\n",
       "\n",
       "    .dataframe thead th {\n",
       "        text-align: right;\n",
       "    }\n",
       "</style>\n",
       "<table border=\"1\" class=\"dataframe\">\n",
       "  <thead>\n",
       "    <tr style=\"text-align: right;\">\n",
       "      <th></th>\n",
       "      <th>day</th>\n",
       "      <th>month</th>\n",
       "      <th>year</th>\n",
       "      <th>Temperature</th>\n",
       "      <th>RH</th>\n",
       "      <th>Ws</th>\n",
       "      <th>Rain</th>\n",
       "      <th>FFMC</th>\n",
       "      <th>DMC</th>\n",
       "      <th>DC</th>\n",
       "      <th>ISI</th>\n",
       "      <th>BUI</th>\n",
       "      <th>FWI</th>\n",
       "      <th>Classes</th>\n",
       "      <th>Region</th>\n",
       "    </tr>\n",
       "  </thead>\n",
       "  <tbody>\n",
       "    <tr>\n",
       "      <th>122</th>\n",
       "      <td>1</td>\n",
       "      <td>6</td>\n",
       "      <td>2012</td>\n",
       "      <td>32</td>\n",
       "      <td>71</td>\n",
       "      <td>12</td>\n",
       "      <td>0.7</td>\n",
       "      <td>57.1</td>\n",
       "      <td>2.5</td>\n",
       "      <td>8.2</td>\n",
       "      <td>0.6</td>\n",
       "      <td>2.8</td>\n",
       "      <td>0.2</td>\n",
       "      <td>not fire</td>\n",
       "      <td>2</td>\n",
       "    </tr>\n",
       "    <tr>\n",
       "      <th>123</th>\n",
       "      <td>2</td>\n",
       "      <td>6</td>\n",
       "      <td>2012</td>\n",
       "      <td>30</td>\n",
       "      <td>73</td>\n",
       "      <td>13</td>\n",
       "      <td>4.0</td>\n",
       "      <td>55.7</td>\n",
       "      <td>2.7</td>\n",
       "      <td>7.8</td>\n",
       "      <td>0.6</td>\n",
       "      <td>2.9</td>\n",
       "      <td>0.2</td>\n",
       "      <td>not fire</td>\n",
       "      <td>2</td>\n",
       "    </tr>\n",
       "    <tr>\n",
       "      <th>124</th>\n",
       "      <td>3</td>\n",
       "      <td>6</td>\n",
       "      <td>2012</td>\n",
       "      <td>29</td>\n",
       "      <td>80</td>\n",
       "      <td>14</td>\n",
       "      <td>2.0</td>\n",
       "      <td>48.7</td>\n",
       "      <td>2.2</td>\n",
       "      <td>7.6</td>\n",
       "      <td>0.3</td>\n",
       "      <td>2.6</td>\n",
       "      <td>0.1</td>\n",
       "      <td>not fire</td>\n",
       "      <td>2</td>\n",
       "    </tr>\n",
       "    <tr>\n",
       "      <th>125</th>\n",
       "      <td>4</td>\n",
       "      <td>6</td>\n",
       "      <td>2012</td>\n",
       "      <td>30</td>\n",
       "      <td>64</td>\n",
       "      <td>14</td>\n",
       "      <td>0.0</td>\n",
       "      <td>79.4</td>\n",
       "      <td>5.2</td>\n",
       "      <td>15.4</td>\n",
       "      <td>2.2</td>\n",
       "      <td>5.6</td>\n",
       "      <td>1.0</td>\n",
       "      <td>not fire</td>\n",
       "      <td>2</td>\n",
       "    </tr>\n",
       "    <tr>\n",
       "      <th>126</th>\n",
       "      <td>5</td>\n",
       "      <td>6</td>\n",
       "      <td>2012</td>\n",
       "      <td>32</td>\n",
       "      <td>60</td>\n",
       "      <td>14</td>\n",
       "      <td>0.2</td>\n",
       "      <td>77.1</td>\n",
       "      <td>6.0</td>\n",
       "      <td>17.6</td>\n",
       "      <td>1.8</td>\n",
       "      <td>6.5</td>\n",
       "      <td>0.9</td>\n",
       "      <td>not fire</td>\n",
       "      <td>2</td>\n",
       "    </tr>\n",
       "    <tr>\n",
       "      <th>...</th>\n",
       "      <td>...</td>\n",
       "      <td>...</td>\n",
       "      <td>...</td>\n",
       "      <td>...</td>\n",
       "      <td>...</td>\n",
       "      <td>...</td>\n",
       "      <td>...</td>\n",
       "      <td>...</td>\n",
       "      <td>...</td>\n",
       "      <td>...</td>\n",
       "      <td>...</td>\n",
       "      <td>...</td>\n",
       "      <td>...</td>\n",
       "      <td>...</td>\n",
       "      <td>...</td>\n",
       "    </tr>\n",
       "    <tr>\n",
       "      <th>238</th>\n",
       "      <td>26</td>\n",
       "      <td>9</td>\n",
       "      <td>2012</td>\n",
       "      <td>30</td>\n",
       "      <td>65</td>\n",
       "      <td>14</td>\n",
       "      <td>0.0</td>\n",
       "      <td>85.4</td>\n",
       "      <td>16.0</td>\n",
       "      <td>44.5</td>\n",
       "      <td>4.5</td>\n",
       "      <td>16.9</td>\n",
       "      <td>6.5</td>\n",
       "      <td>fire</td>\n",
       "      <td>2</td>\n",
       "    </tr>\n",
       "    <tr>\n",
       "      <th>239</th>\n",
       "      <td>27</td>\n",
       "      <td>9</td>\n",
       "      <td>2012</td>\n",
       "      <td>28</td>\n",
       "      <td>87</td>\n",
       "      <td>15</td>\n",
       "      <td>4.4</td>\n",
       "      <td>41.1</td>\n",
       "      <td>6.5</td>\n",
       "      <td>8.0</td>\n",
       "      <td>0.1</td>\n",
       "      <td>6.2</td>\n",
       "      <td>0.0</td>\n",
       "      <td>not fire</td>\n",
       "      <td>2</td>\n",
       "    </tr>\n",
       "    <tr>\n",
       "      <th>240</th>\n",
       "      <td>28</td>\n",
       "      <td>9</td>\n",
       "      <td>2012</td>\n",
       "      <td>27</td>\n",
       "      <td>87</td>\n",
       "      <td>29</td>\n",
       "      <td>0.5</td>\n",
       "      <td>45.9</td>\n",
       "      <td>3.5</td>\n",
       "      <td>7.9</td>\n",
       "      <td>0.4</td>\n",
       "      <td>3.4</td>\n",
       "      <td>0.2</td>\n",
       "      <td>not fire</td>\n",
       "      <td>2</td>\n",
       "    </tr>\n",
       "    <tr>\n",
       "      <th>241</th>\n",
       "      <td>29</td>\n",
       "      <td>9</td>\n",
       "      <td>2012</td>\n",
       "      <td>24</td>\n",
       "      <td>54</td>\n",
       "      <td>18</td>\n",
       "      <td>0.1</td>\n",
       "      <td>79.7</td>\n",
       "      <td>4.3</td>\n",
       "      <td>15.2</td>\n",
       "      <td>1.7</td>\n",
       "      <td>5.1</td>\n",
       "      <td>0.7</td>\n",
       "      <td>not fire</td>\n",
       "      <td>2</td>\n",
       "    </tr>\n",
       "    <tr>\n",
       "      <th>242</th>\n",
       "      <td>30</td>\n",
       "      <td>9</td>\n",
       "      <td>2012</td>\n",
       "      <td>24</td>\n",
       "      <td>64</td>\n",
       "      <td>15</td>\n",
       "      <td>0.2</td>\n",
       "      <td>67.3</td>\n",
       "      <td>3.8</td>\n",
       "      <td>16.5</td>\n",
       "      <td>1.2</td>\n",
       "      <td>4.8</td>\n",
       "      <td>0.5</td>\n",
       "      <td>not fire</td>\n",
       "      <td>2</td>\n",
       "    </tr>\n",
       "  </tbody>\n",
       "</table>\n",
       "<p>121 rows × 15 columns</p>\n",
       "</div>"
      ],
      "text/plain": [
       "     day  month  year  Temperature  RH  Ws  Rain  FFMC   DMC    DC  ISI   BUI  \\\n",
       "122    1      6  2012           32  71  12   0.7  57.1   2.5   8.2  0.6   2.8   \n",
       "123    2      6  2012           30  73  13   4.0  55.7   2.7   7.8  0.6   2.9   \n",
       "124    3      6  2012           29  80  14   2.0  48.7   2.2   7.6  0.3   2.6   \n",
       "125    4      6  2012           30  64  14   0.0  79.4   5.2  15.4  2.2   5.6   \n",
       "126    5      6  2012           32  60  14   0.2  77.1   6.0  17.6  1.8   6.5   \n",
       "..   ...    ...   ...          ...  ..  ..   ...   ...   ...   ...  ...   ...   \n",
       "238   26      9  2012           30  65  14   0.0  85.4  16.0  44.5  4.5  16.9   \n",
       "239   27      9  2012           28  87  15   4.4  41.1   6.5   8.0  0.1   6.2   \n",
       "240   28      9  2012           27  87  29   0.5  45.9   3.5   7.9  0.4   3.4   \n",
       "241   29      9  2012           24  54  18   0.1  79.7   4.3  15.2  1.7   5.1   \n",
       "242   30      9  2012           24  64  15   0.2  67.3   3.8  16.5  1.2   4.8   \n",
       "\n",
       "     FWI   Classes  Region  \n",
       "122  0.2  not fire       2  \n",
       "123  0.2  not fire       2  \n",
       "124  0.1  not fire       2  \n",
       "125  1.0  not fire       2  \n",
       "126  0.9  not fire       2  \n",
       "..   ...       ...     ...  \n",
       "238  6.5      fire       2  \n",
       "239  0.0  not fire       2  \n",
       "240  0.2  not fire       2  \n",
       "241  0.7  not fire       2  \n",
       "242  0.5  not fire       2  \n",
       "\n",
       "[121 rows x 15 columns]"
      ]
     },
     "execution_count": 27,
     "metadata": {},
     "output_type": "execute_result"
    }
   ],
   "source": [
    "df[122:]"
   ]
  },
  {
   "cell_type": "code",
   "execution_count": 28,
   "id": "e7bffbc9",
   "metadata": {},
   "outputs": [],
   "source": [
    "df.to_csv('Algerian_forest_fires_dataset_CLEANED.csv', index=False)"
   ]
  },
  {
   "cell_type": "markdown",
   "id": "e351b96e",
   "metadata": {},
   "source": [
    "### Exploratory Data Analysis (EDA)"
   ]
  },
  {
   "cell_type": "code",
   "execution_count": 29,
   "id": "33c95568",
   "metadata": {},
   "outputs": [],
   "source": [
    "#Droping Year features \n",
    "df1 = df.drop(['day','month','year'], axis=1)"
   ]
  },
  {
   "cell_type": "code",
   "execution_count": 30,
   "id": "6d540542",
   "metadata": {},
   "outputs": [],
   "source": [
    "# Encoding Not fire as 0 and Fire as 1\n",
    "df1['Classes']= np.where(df1['Classes']== 'not fire',0,1)"
   ]
  },
  {
   "cell_type": "code",
   "execution_count": 31,
   "id": "9e5a03e9",
   "metadata": {},
   "outputs": [
    {
     "data": {
      "text/plain": [
       "1    137\n",
       "0    106\n",
       "Name: Classes, dtype: int64"
      ]
     },
     "execution_count": 31,
     "metadata": {},
     "output_type": "execute_result"
    }
   ],
   "source": [
    "# Check counts\n",
    "df1.Classes.value_counts()"
   ]
  },
  {
   "cell_type": "markdown",
   "id": "14c53840",
   "metadata": {},
   "source": [
    "**Visualization of Distribution**"
   ]
  },
  {
   "cell_type": "code",
   "execution_count": 32,
   "id": "40e3a4ba",
   "metadata": {},
   "outputs": [
    {
     "data": {
      "image/png": "[encoded data removed]",
      "text/plain": [
       "<Figure size 1440x1080 with 12 Axes>"
      ]
     },
     "metadata": {},
     "output_type": "display_data"
    }
   ],
   "source": [
    "# PLot density plot for all features\n",
    "plt.style.use('seaborn')\n",
    "df1.hist(bins=50, figsize=(20,15), ec = 'b')\n",
    "plt.show()"
   ]
  },
  {
   "cell_type": "code",
   "execution_count": 33,
   "id": "a9f80095",
   "metadata": {},
   "outputs": [
    {
     "data": {
      "text/plain": [
       "fire        56.378601\n",
       "not fire    43.621399\n",
       "Name: Classes, dtype: float64"
      ]
     },
     "execution_count": 33,
     "metadata": {},
     "output_type": "execute_result"
    }
   ],
   "source": [
    "# Percentage for PieChart\n",
    "percentage = df.Classes.value_counts(normalize=True)*100\n",
    "percentage"
   ]
  },
  {
   "cell_type": "markdown",
   "id": "a9da48bc",
   "metadata": {},
   "source": [
    "**Charts**"
   ]
  },
  {
   "cell_type": "code",
   "execution_count": 34,
   "id": "3a7248d9",
   "metadata": {},
   "outputs": [
    {
     "data": {
      "image/png": "[encoded data removed]",
      "text/plain": [
       "<Figure size 864x504 with 1 Axes>"
      ]
     },
     "metadata": {},
     "output_type": "display_data"
    }
   ],
   "source": [
    "#plotting PieChart\n",
    "classeslabels = [\"FIRE\", \"NOT FIRE\"]\n",
    "plt.figure(figsize =(12, 7))\n",
    "plt.pie(percentage,labels = classeslabels,autopct='%1.1f%%')  \n",
    "plt.title (\"Pie Chart of Classes\", fontsize = 15)\n",
    "plt.show() "
   ]
  },
  {
   "cell_type": "markdown",
   "id": "575f88ac",
   "metadata": {},
   "source": [
    "#### Canadian Forest Fire Weather Index (FWI) System\n",
    "This column can be considered for Regression problem"
   ]
  },
  {
   "cell_type": "code",
   "execution_count": 38,
   "id": "996fdb1e",
   "metadata": {},
   "outputs": [
    {
     "data": {
      "image/png": "[encoded data removed]",
      "text/plain": [
       "<Figure size 576x396 with 1 Axes>"
      ]
     },
     "metadata": {},
     "output_type": "display_data"
    }
   ],
   "source": [
    "#Boxplot\n",
    "ax = sns.boxplot(df['FWI'], color= 'red')"
   ]
  },
  {
   "cell_type": "markdown",
   "id": "2afa414d",
   "metadata": {},
   "source": [
    "### **Monthwise Fire Analysis**"
   ]
  },
  {
   "cell_type": "code",
   "execution_count": 39,
   "id": "faf947dd",
   "metadata": {},
   "outputs": [
    {
     "data": {
      "image/png": "[encoded data removed]",
      "text/plain": [
       "<Figure size 936x432 with 1 Axes>"
      ]
     },
     "metadata": {},
     "output_type": "display_data"
    }
   ],
   "source": [
    "dftemp= df.loc[df['Region']== 1]\n",
    "plt.subplots(figsize=(13,6))\n",
    "sns.set_style('whitegrid')\n",
    "sns.countplot(x='month',hue='Classes',data= df,ec = 'black', palette= 'Set2')\n",
    "plt.title('Fire Analysis Month wise for Bejaia Region', fontsize=18, weight='bold')\n",
    "plt.ylabel('Count', weight = 'bold')\n",
    "plt.xlabel('Months', weight= 'bold')\n",
    "plt.legend(loc='upper right')\n",
    "plt.xticks(np.arange(4), ['June','July', 'August', 'September',])\n",
    "plt.grid(alpha = 0.5,axis = 'y')\n",
    "plt.show()"
   ]
  },
  {
   "cell_type": "code",
   "execution_count": 40,
   "id": "53f569f5",
   "metadata": {},
   "outputs": [
    {
     "data": {
      "image/png": "[encoded data removed]",
      "text/plain": [
       "<Figure size 936x432 with 1 Axes>"
      ]
     },
     "metadata": {},
     "output_type": "display_data"
    }
   ],
   "source": [
    "dftemp= df.loc[df['Region']== 2]\n",
    "plt.subplots(figsize=(13,6))\n",
    "sns.set_style('whitegrid')\n",
    "sns.countplot(x='month',hue='Classes',data= df,ec = 'black', palette= 'Set2')\n",
    "plt.title('Fire Analysis Month wise for Sidi-Bel Abbes Region', fontsize=18, weight='bold')\n",
    "plt.ylabel('Count', weight = 'bold')\n",
    "plt.xlabel('Months', weight= 'bold')\n",
    "plt.legend(loc='upper right')\n",
    "plt.xticks(np.arange(4), ['June','July', 'August', 'September',])\n",
    "plt.grid(alpha = 0.5,axis = 'y')\n",
    "plt.show()"
   ]
  },
  {
   "cell_type": "markdown",
   "id": "605ea095",
   "metadata": {},
   "source": [
    "* Its observed that August and September had the most number of forest fires for both regions. And from the above plot of months, we can understand few things\n",
    "\n",
    "* Most of the fires happened in August and very high Fires happened in only 3 months - **June, July and August.**\n",
    "\n",
    "* Less Fires was on September"
   ]
  },
  {
   "cell_type": "markdown",
   "id": "f0c452a0",
   "metadata": {},
   "source": [
    "### Exploratory Data Analysis (EDA) on all Features"
   ]
  },
  {
   "cell_type": "code",
   "execution_count": 41,
   "id": "c9345aca",
   "metadata": {},
   "outputs": [
    {
     "data": {
      "text/plain": [
       "Index(['day', 'month', 'year', 'Temperature', 'RH', 'Ws', 'Rain', 'FFMC',\n",
       "       'DMC', 'DC', 'ISI', 'BUI', 'FWI', 'Classes', 'Region'],\n",
       "      dtype='object')"
      ]
     },
     "execution_count": 41,
     "metadata": {},
     "output_type": "execute_result"
    }
   ],
   "source": [
    "df.columns"
   ]
  },
  {
   "cell_type": "code",
   "execution_count": 42,
   "id": "fadfcdc1",
   "metadata": {},
   "outputs": [],
   "source": [
    "def barchart(feature,xlabel):\n",
    "    plt.figure(figsize=[14,8])\n",
    "    by_feature =  df1.groupby([feature], as_index=False)['Classes'].sum()\n",
    "    ax = sns.barplot(x=feature, y=\"Classes\", data=by_feature[[feature,'Classes']], estimator=sum)\n",
    "    ax.set(xlabel=xlabel, ylabel='Fire Count')"
   ]
  },
  {
   "cell_type": "code",
   "execution_count": 43,
   "id": "b8b4caff",
   "metadata": {},
   "outputs": [
    {
     "data": {
      "image/png": "[encoded data removed]",
      "text/plain": [
       "<Figure size 1008x576 with 1 Axes>"
      ]
     },
     "metadata": {},
     "output_type": "display_data"
    }
   ],
   "source": [
    "barchart('Temperature','Temperature Max in Celsius degrees')"
   ]
  },
  {
   "cell_type": "code",
   "execution_count": 44,
   "id": "cc581a06",
   "metadata": {},
   "outputs": [
    {
     "data": {
      "image/png": "[encoded data removed]",
      "text/plain": [
       "<Figure size 1008x576 with 1 Axes>"
      ]
     },
     "metadata": {},
     "output_type": "display_data"
    }
   ],
   "source": [
    "barchart('Rain', 'Rain in mm')"
   ]
  },
  {
   "cell_type": "markdown",
   "id": "2563bc25",
   "metadata": {},
   "source": [
    "#### Fine Fuel Moisture Code (FFMC) index"
   ]
  },
  {
   "cell_type": "code",
   "execution_count": 45,
   "id": "8c8790b1",
   "metadata": {},
   "outputs": [
    {
     "data": {
      "image/png": "[encoded data removed]",
      "text/plain": [
       "<Figure size 1008x576 with 1 Axes>"
      ]
     },
     "metadata": {},
     "output_type": "display_data"
    }
   ],
   "source": [
    "barchart('Ws', 'Wind Speed in km/hr')"
   ]
  },
  {
   "cell_type": "code",
   "execution_count": 46,
   "id": "bdbb2432",
   "metadata": {},
   "outputs": [
    {
     "ename": "NameError",
     "evalue": "name 'barplots' is not defined",
     "output_type": "error",
     "traceback": [
      "\u001b[1;31m---------------------------------------------------------------------------\u001b[0m",
      "\u001b[1;31mNameError\u001b[0m                                 Traceback (most recent call last)",
      "\u001b[1;32m~\\AppData\\Local\\Temp/ipykernel_38824/1745455026.py\u001b[0m in \u001b[0;36m<module>\u001b[1;34m\u001b[0m\n\u001b[1;32m----> 1\u001b[1;33m \u001b[0mbarplots\u001b[0m\u001b[1;33m(\u001b[0m\u001b[1;34m'RH'\u001b[0m\u001b[1;33m,\u001b[0m\u001b[1;34m'Relative Humidity in %'\u001b[0m\u001b[1;33m)\u001b[0m\u001b[1;33m\u001b[0m\u001b[1;33m\u001b[0m\u001b[0m\n\u001b[0m",
      "\u001b[1;31mNameError\u001b[0m: name 'barplots' is not defined"
     ]
    }
   ],
   "source": [
    "barplots('RH','Relative Humidity in %')"
   ]
  },
  {
   "cell_type": "code",
   "execution_count": 47,
   "id": "c0df1e71",
   "metadata": {},
   "outputs": [
    {
     "data": {
      "image/png": "[encoded data removed]",
      "text/plain": [
       "<Figure size 864x432 with 1 Axes>"
      ]
     },
     "metadata": {},
     "output_type": "display_data"
    }
   ],
   "source": [
    "dftemp = df1.drop(['Classes', 'Region'], axis=1)\n",
    "fig = plt.figure(figsize =(12, 6))\n",
    "ax = dftemp.boxplot()\n",
    "ax.set_title(\"Boxplot of Given Dataset\")\n",
    "plt.show()"
   ]
  },
  {
   "cell_type": "code",
   "execution_count": 48,
   "id": "75f8474e",
   "metadata": {
    "scrolled": true
   },
   "outputs": [
    {
     "data": {
      "image/png": "[encoded data removed]",
      "text/plain": [
       "<Figure size 576x396 with 1 Axes>"
      ]
     },
     "metadata": {},
     "output_type": "display_data"
    },
    {
     "data": {
      "image/png": "[encoded data removed]",
      "text/plain": [
       "<Figure size 576x396 with 1 Axes>"
      ]
     },
     "metadata": {},
     "output_type": "display_data"
    },
    {
     "data": {
      "image/png": "[encoded data removed]",
      "text/plain": [
       "<Figure size 576x396 with 1 Axes>"
      ]
     },
     "metadata": {},
     "output_type": "display_data"
    },
    {
     "data": {
      "image/png": "[encoded data removed]",
      "text/plain": [
       "<Figure size 576x396 with 1 Axes>"
      ]
     },
     "metadata": {},
     "output_type": "display_data"
    },
    {
     "data": {
      "image/png": "[encoded data removed]",
      "text/plain": [
       "<Figure size 576x396 with 1 Axes>"
      ]
     },
     "metadata": {},
     "output_type": "display_data"
    },
    {
     "data": {
      "image/png": "[encoded data removed]",
      "text/plain": [
       "<Figure size 576x396 with 1 Axes>"
      ]
     },
     "metadata": {},
     "output_type": "display_data"
    },
    {
     "data": {
      "image/png": "[encoded data removed]",
      "text/plain": [
       "<Figure size 576x396 with 1 Axes>"
      ]
     },
     "metadata": {},
     "output_type": "display_data"
    }
   ],
   "source": [
    "dftemp = dftemp = df1.drop(['Region','Temperature','Rain','Ws','RH'], axis=1)\n",
    "for feature in dftemp:\n",
    "    sns.histplot(data = dftemp,x=feature, hue = 'Classes')\n",
    "    plt.legend(labels=['Fire','Not Fire'])\n",
    "    plt.title(feature)\n",
    "    plt.show()"
   ]
  },
  {
   "cell_type": "markdown",
   "id": "cb47c60d",
   "metadata": {},
   "source": [
    "### REPORT \n",
    "#### Weather System Report\n",
    "* **Temperature** Highest Fire counts happened between **30-37 degree Celsius**\n",
    "* **Rain** Highest Fire counts happened when there was no rain to very less rain ie. **0.0 to 0.3.**\n",
    "* **Wind Speed** highest Fire count happened when the wind speed were between **13 to 19 Km/hr.**\n",
    "* **Relative Humidity** highest fire count happened when the RH is between **50 to 80%.**\n",
    "\n",
    "\n",
    "#### FWI System Components Report \n",
    "FWI (Canadian Forest Fire Weather Index)\n",
    "* **Fine Fuel Moisture Code (FFMC) index** which ranges between *28.6 to 92.5*, \n",
    "    here **above 75** has higher chance of Forest fires.\n",
    "    \n",
    "* **Duff Moisture Code (DMC) index** which ranges between *1.1 to 65.9*, \n",
    "    here 1.1-10 has lower chance of Forest fires whereas above **10-30 DMC** has very high evidence of Forest fires in past.\n",
    "    \n",
    "* **Drought Code (DC) index** which ranges between *7 to 220.4*, \n",
    "    here 0-25 is safe and has lower chance of Forest fires whereas range **above 25 DC** has higher chance of forest fires.\n",
    "    \n",
    "* **Initial Spread Index (ISI) index** which ranges between *0 to 18*, \n",
    "    here 0-3 has lower Forest fires and **above 3 ISI** has higher chance of Forest fires.\n",
    "    \n",
    "* **Buildup Index (BUI) index** which ranges between *1.1 to 68*, \n",
    "    here 1.1 to 10 has lower Forest fire chance and **above 10 BUI has** higher chance of forest fires.\n",
    "    \n",
    "* **Fire Weather Index (FWI) Index** which ranges between *1 to 31.1*, \n",
    "    here 0-3 has lower chance of Forest fires and **3-25 FWI** has higher chance of forest fires."
   ]
  },
  {
   "cell_type": "markdown",
   "id": "04be81f7",
   "metadata": {},
   "source": [
    " # Data Preprocessing "
   ]
  },
  {
   "cell_type": "code",
   "execution_count": 53,
   "id": "a0e66895",
   "metadata": {},
   "outputs": [],
   "source": [
    "import pandas as pd\n",
    "import matplotlib.pyplot as plt\n",
    "import numpy as np\n",
    "import seaborn as sns\n",
    "from sklearn.model_selection import RandomizedSearchCV, GridSearchCV\n",
    "from sklearn.preprocessing import StandardScaler\n",
    "from sklearn.model_selection import train_test_split\n",
    "from sklearn.ensemble import RandomForestClassifier\n",
    "from sklearn.tree import DecisionTreeClassifier\n",
    "%matplotlib inline"
   ]
  },
  {
   "cell_type": "markdown",
   "id": "076bc61c",
   "metadata": {},
   "source": [
    "## Import Cleaned Dataset"
   ]
  },
  {
   "cell_type": "code",
   "execution_count": 54,
   "id": "8f7e908f",
   "metadata": {},
   "outputs": [],
   "source": [
    "df = pd.read_csv('Algerian_forest_fires_dataset_CLEANED.csv')"
   ]
  },
  {
   "cell_type": "code",
   "execution_count": 55,
   "id": "86e68f33",
   "metadata": {},
   "outputs": [
    {
     "data": {
      "text/plain": [
       "Index(['day', 'month', 'year', 'Temperature', 'RH', 'Ws', 'Rain', 'FFMC',\n",
       "       'DMC', 'DC', 'ISI', 'BUI', 'FWI', 'Classes', 'Region'],\n",
       "      dtype='object')"
      ]
     },
     "execution_count": 55,
     "metadata": {},
     "output_type": "execute_result"
    }
   ],
   "source": [
    "df.columns"
   ]
  },
  {
   "cell_type": "markdown",
   "id": "28ab0a6a",
   "metadata": {},
   "source": [
    "## Perform Train Test Split"
   ]
  },
  {
   "cell_type": "code",
   "execution_count": 56,
   "id": "9fe2673e",
   "metadata": {},
   "outputs": [],
   "source": [
    "df.drop(['day','month','year'], axis=1, inplace=True)"
   ]
  },
  {
   "cell_type": "code",
   "execution_count": 57,
   "id": "ace1d55b",
   "metadata": {},
   "outputs": [],
   "source": [
    "# Encoding Not fire as 0 and Fire as 1\n",
    "df['Classes']= np.where(df['Classes']== 'not fire',0,1)"
   ]
  },
  {
   "cell_type": "code",
   "execution_count": 58,
   "id": "31d70e6d",
   "metadata": {},
   "outputs": [],
   "source": [
    "X = df.drop('Temperature',axis=1)\n",
    "y= df['Temperature']"
   ]
  },
  {
   "cell_type": "code",
   "execution_count": 59,
   "id": "8952e18f",
   "metadata": {},
   "outputs": [
    {
     "data": {
      "text/plain": [
       "((182, 11), (61, 11))"
      ]
     },
     "execution_count": 59,
     "metadata": {},
     "output_type": "execute_result"
    }
   ],
   "source": [
    "# separate dataset into train and test\n",
    "X_train, X_test, y_train, y_test = train_test_split(X,y,test_size=0.25,random_state=0)\n",
    "X_train.shape, X_test.shape"
   ]
  },
  {
   "cell_type": "code",
   "execution_count": 60,
   "id": "a987f0ce",
   "metadata": {},
   "outputs": [
    {
     "data": {
      "text/html": [
       "<div>\n",
       "<style scoped>\n",
       "    .dataframe tbody tr th:only-of-type {\n",
       "        vertical-align: middle;\n",
       "    }\n",
       "\n",
       "    .dataframe tbody tr th {\n",
       "        vertical-align: top;\n",
       "    }\n",
       "\n",
       "    .dataframe thead th {\n",
       "        text-align: right;\n",
       "    }\n",
       "</style>\n",
       "<table border=\"1\" class=\"dataframe\">\n",
       "  <thead>\n",
       "    <tr style=\"text-align: right;\">\n",
       "      <th></th>\n",
       "      <th>RH</th>\n",
       "      <th>Ws</th>\n",
       "      <th>Rain</th>\n",
       "      <th>FFMC</th>\n",
       "      <th>DMC</th>\n",
       "      <th>DC</th>\n",
       "      <th>ISI</th>\n",
       "      <th>BUI</th>\n",
       "      <th>FWI</th>\n",
       "      <th>Classes</th>\n",
       "      <th>Region</th>\n",
       "    </tr>\n",
       "  </thead>\n",
       "  <tbody>\n",
       "    <tr>\n",
       "      <th>230</th>\n",
       "      <td>33</td>\n",
       "      <td>13</td>\n",
       "      <td>0.1</td>\n",
       "      <td>90.6</td>\n",
       "      <td>25.8</td>\n",
       "      <td>77.8</td>\n",
       "      <td>9.0</td>\n",
       "      <td>28.2</td>\n",
       "      <td>15.4</td>\n",
       "      <td>1</td>\n",
       "      <td>2</td>\n",
       "    </tr>\n",
       "    <tr>\n",
       "      <th>218</th>\n",
       "      <td>71</td>\n",
       "      <td>14</td>\n",
       "      <td>6.5</td>\n",
       "      <td>64.5</td>\n",
       "      <td>3.3</td>\n",
       "      <td>9.1</td>\n",
       "      <td>1.0</td>\n",
       "      <td>3.5</td>\n",
       "      <td>0.4</td>\n",
       "      <td>0</td>\n",
       "      <td>2</td>\n",
       "    </tr>\n",
       "    <tr>\n",
       "      <th>184</th>\n",
       "      <td>33</td>\n",
       "      <td>17</td>\n",
       "      <td>0.0</td>\n",
       "      <td>93.7</td>\n",
       "      <td>17.1</td>\n",
       "      <td>32.1</td>\n",
       "      <td>17.2</td>\n",
       "      <td>16.9</td>\n",
       "      <td>19.5</td>\n",
       "      <td>1</td>\n",
       "      <td>2</td>\n",
       "    </tr>\n",
       "    <tr>\n",
       "      <th>233</th>\n",
       "      <td>34</td>\n",
       "      <td>17</td>\n",
       "      <td>0.0</td>\n",
       "      <td>92.2</td>\n",
       "      <td>23.6</td>\n",
       "      <td>97.3</td>\n",
       "      <td>13.8</td>\n",
       "      <td>29.4</td>\n",
       "      <td>21.6</td>\n",
       "      <td>1</td>\n",
       "      <td>2</td>\n",
       "    </tr>\n",
       "    <tr>\n",
       "      <th>204</th>\n",
       "      <td>43</td>\n",
       "      <td>16</td>\n",
       "      <td>0.0</td>\n",
       "      <td>91.2</td>\n",
       "      <td>46.1</td>\n",
       "      <td>137.7</td>\n",
       "      <td>11.5</td>\n",
       "      <td>50.2</td>\n",
       "      <td>24.5</td>\n",
       "      <td>1</td>\n",
       "      <td>2</td>\n",
       "    </tr>\n",
       "    <tr>\n",
       "      <th>...</th>\n",
       "      <td>...</td>\n",
       "      <td>...</td>\n",
       "      <td>...</td>\n",
       "      <td>...</td>\n",
       "      <td>...</td>\n",
       "      <td>...</td>\n",
       "      <td>...</td>\n",
       "      <td>...</td>\n",
       "      <td>...</td>\n",
       "      <td>...</td>\n",
       "      <td>...</td>\n",
       "    </tr>\n",
       "    <tr>\n",
       "      <th>67</th>\n",
       "      <td>69</td>\n",
       "      <td>16</td>\n",
       "      <td>0.0</td>\n",
       "      <td>86.5</td>\n",
       "      <td>15.5</td>\n",
       "      <td>48.6</td>\n",
       "      <td>5.5</td>\n",
       "      <td>17.2</td>\n",
       "      <td>8.0</td>\n",
       "      <td>1</td>\n",
       "      <td>1</td>\n",
       "    </tr>\n",
       "    <tr>\n",
       "      <th>192</th>\n",
       "      <td>31</td>\n",
       "      <td>15</td>\n",
       "      <td>0.0</td>\n",
       "      <td>94.2</td>\n",
       "      <td>22.5</td>\n",
       "      <td>46.3</td>\n",
       "      <td>16.6</td>\n",
       "      <td>22.4</td>\n",
       "      <td>21.6</td>\n",
       "      <td>1</td>\n",
       "      <td>2</td>\n",
       "    </tr>\n",
       "    <tr>\n",
       "      <th>117</th>\n",
       "      <td>54</td>\n",
       "      <td>11</td>\n",
       "      <td>0.0</td>\n",
       "      <td>82.0</td>\n",
       "      <td>6.0</td>\n",
       "      <td>16.3</td>\n",
       "      <td>2.5</td>\n",
       "      <td>6.2</td>\n",
       "      <td>1.7</td>\n",
       "      <td>0</td>\n",
       "      <td>1</td>\n",
       "    </tr>\n",
       "    <tr>\n",
       "      <th>47</th>\n",
       "      <td>68</td>\n",
       "      <td>14</td>\n",
       "      <td>0.0</td>\n",
       "      <td>85.4</td>\n",
       "      <td>12.1</td>\n",
       "      <td>43.1</td>\n",
       "      <td>4.6</td>\n",
       "      <td>14.2</td>\n",
       "      <td>6.0</td>\n",
       "      <td>1</td>\n",
       "      <td>1</td>\n",
       "    </tr>\n",
       "    <tr>\n",
       "      <th>172</th>\n",
       "      <td>48</td>\n",
       "      <td>18</td>\n",
       "      <td>0.0</td>\n",
       "      <td>91.5</td>\n",
       "      <td>44.2</td>\n",
       "      <td>90.1</td>\n",
       "      <td>13.2</td>\n",
       "      <td>44.0</td>\n",
       "      <td>25.4</td>\n",
       "      <td>1</td>\n",
       "      <td>2</td>\n",
       "    </tr>\n",
       "  </tbody>\n",
       "</table>\n",
       "<p>182 rows × 11 columns</p>\n",
       "</div>"
      ],
      "text/plain": [
       "     RH  Ws  Rain  FFMC   DMC     DC   ISI   BUI   FWI  Classes  Region\n",
       "230  33  13   0.1  90.6  25.8   77.8   9.0  28.2  15.4        1       2\n",
       "218  71  14   6.5  64.5   3.3    9.1   1.0   3.5   0.4        0       2\n",
       "184  33  17   0.0  93.7  17.1   32.1  17.2  16.9  19.5        1       2\n",
       "233  34  17   0.0  92.2  23.6   97.3  13.8  29.4  21.6        1       2\n",
       "204  43  16   0.0  91.2  46.1  137.7  11.5  50.2  24.5        1       2\n",
       "..   ..  ..   ...   ...   ...    ...   ...   ...   ...      ...     ...\n",
       "67   69  16   0.0  86.5  15.5   48.6   5.5  17.2   8.0        1       1\n",
       "192  31  15   0.0  94.2  22.5   46.3  16.6  22.4  21.6        1       2\n",
       "117  54  11   0.0  82.0   6.0   16.3   2.5   6.2   1.7        0       1\n",
       "47   68  14   0.0  85.4  12.1   43.1   4.6  14.2   6.0        1       1\n",
       "172  48  18   0.0  91.5  44.2   90.1  13.2  44.0  25.4        1       2\n",
       "\n",
       "[182 rows x 11 columns]"
      ]
     },
     "execution_count": 60,
     "metadata": {},
     "output_type": "execute_result"
    }
   ],
   "source": [
    "X_train"
   ]
  },
  {
   "cell_type": "code",
   "execution_count": 61,
   "id": "4913f1c7",
   "metadata": {},
   "outputs": [
    {
     "data": {
      "text/plain": [
       "230    36\n",
       "218    34\n",
       "184    39\n",
       "233    35\n",
       "204    36\n",
       "       ..\n",
       "67     32\n",
       "192    40\n",
       "117    31\n",
       "47     31\n",
       "172    32\n",
       "Name: Temperature, Length: 182, dtype: int64"
      ]
     },
     "execution_count": 61,
     "metadata": {},
     "output_type": "execute_result"
    }
   ],
   "source": [
    "y_train"
   ]
  },
  {
   "cell_type": "code",
   "execution_count": 62,
   "id": "50dc950c",
   "metadata": {},
   "outputs": [
    {
     "data": {
      "text/html": [
       "<div>\n",
       "<style scoped>\n",
       "    .dataframe tbody tr th:only-of-type {\n",
       "        vertical-align: middle;\n",
       "    }\n",
       "\n",
       "    .dataframe tbody tr th {\n",
       "        vertical-align: top;\n",
       "    }\n",
       "\n",
       "    .dataframe thead th {\n",
       "        text-align: right;\n",
       "    }\n",
       "</style>\n",
       "<table border=\"1\" class=\"dataframe\">\n",
       "  <thead>\n",
       "    <tr style=\"text-align: right;\">\n",
       "      <th></th>\n",
       "      <th>RH</th>\n",
       "      <th>Ws</th>\n",
       "      <th>Rain</th>\n",
       "      <th>FFMC</th>\n",
       "      <th>DMC</th>\n",
       "      <th>DC</th>\n",
       "      <th>ISI</th>\n",
       "      <th>BUI</th>\n",
       "      <th>FWI</th>\n",
       "      <th>Classes</th>\n",
       "      <th>Region</th>\n",
       "    </tr>\n",
       "  </thead>\n",
       "  <tbody>\n",
       "    <tr>\n",
       "      <th>RH</th>\n",
       "      <td>1.000000</td>\n",
       "      <td>0.262581</td>\n",
       "      <td>0.275592</td>\n",
       "      <td>-0.653649</td>\n",
       "      <td>-0.393893</td>\n",
       "      <td>-0.203883</td>\n",
       "      <td>-0.712353</td>\n",
       "      <td>-0.333027</td>\n",
       "      <td>-0.594299</td>\n",
       "      <td>-0.446906</td>\n",
       "      <td>-0.427696</td>\n",
       "    </tr>\n",
       "    <tr>\n",
       "      <th>Ws</th>\n",
       "      <td>0.262581</td>\n",
       "      <td>1.000000</td>\n",
       "      <td>0.204035</td>\n",
       "      <td>-0.226129</td>\n",
       "      <td>-0.010158</td>\n",
       "      <td>0.079699</td>\n",
       "      <td>-0.018845</td>\n",
       "      <td>0.023680</td>\n",
       "      <td>0.013239</td>\n",
       "      <td>-0.108246</td>\n",
       "      <td>-0.191245</td>\n",
       "    </tr>\n",
       "    <tr>\n",
       "      <th>Rain</th>\n",
       "      <td>0.275592</td>\n",
       "      <td>0.204035</td>\n",
       "      <td>1.000000</td>\n",
       "      <td>-0.589465</td>\n",
       "      <td>-0.300364</td>\n",
       "      <td>-0.302591</td>\n",
       "      <td>-0.347660</td>\n",
       "      <td>-0.308258</td>\n",
       "      <td>-0.326426</td>\n",
       "      <td>-0.393221</td>\n",
       "      <td>-0.086938</td>\n",
       "    </tr>\n",
       "    <tr>\n",
       "      <th>FFMC</th>\n",
       "      <td>-0.653649</td>\n",
       "      <td>-0.226129</td>\n",
       "      <td>-0.589465</td>\n",
       "      <td>1.000000</td>\n",
       "      <td>0.621958</td>\n",
       "      <td>0.528275</td>\n",
       "      <td>0.742079</td>\n",
       "      <td>0.606527</td>\n",
       "      <td>0.704563</td>\n",
       "      <td>0.773444</td>\n",
       "      <td>0.267099</td>\n",
       "    </tr>\n",
       "    <tr>\n",
       "      <th>DMC</th>\n",
       "      <td>-0.393893</td>\n",
       "      <td>-0.010158</td>\n",
       "      <td>-0.300364</td>\n",
       "      <td>0.621958</td>\n",
       "      <td>1.000000</td>\n",
       "      <td>0.884417</td>\n",
       "      <td>0.680918</td>\n",
       "      <td>0.984222</td>\n",
       "      <td>0.882314</td>\n",
       "      <td>0.629505</td>\n",
       "      <td>0.175711</td>\n",
       "    </tr>\n",
       "    <tr>\n",
       "      <th>DC</th>\n",
       "      <td>-0.203883</td>\n",
       "      <td>0.079699</td>\n",
       "      <td>-0.302591</td>\n",
       "      <td>0.528275</td>\n",
       "      <td>0.884417</td>\n",
       "      <td>1.000000</td>\n",
       "      <td>0.501412</td>\n",
       "      <td>0.951157</td>\n",
       "      <td>0.746551</td>\n",
       "      <td>0.562431</td>\n",
       "      <td>-0.080660</td>\n",
       "    </tr>\n",
       "    <tr>\n",
       "      <th>ISI</th>\n",
       "      <td>-0.712353</td>\n",
       "      <td>-0.018845</td>\n",
       "      <td>-0.347660</td>\n",
       "      <td>0.742079</td>\n",
       "      <td>0.680918</td>\n",
       "      <td>0.501412</td>\n",
       "      <td>1.000000</td>\n",
       "      <td>0.632285</td>\n",
       "      <td>0.918573</td>\n",
       "      <td>0.747764</td>\n",
       "      <td>0.312299</td>\n",
       "    </tr>\n",
       "    <tr>\n",
       "      <th>BUI</th>\n",
       "      <td>-0.333027</td>\n",
       "      <td>0.023680</td>\n",
       "      <td>-0.308258</td>\n",
       "      <td>0.606527</td>\n",
       "      <td>0.984222</td>\n",
       "      <td>0.951157</td>\n",
       "      <td>0.632285</td>\n",
       "      <td>1.000000</td>\n",
       "      <td>0.855633</td>\n",
       "      <td>0.624037</td>\n",
       "      <td>0.079373</td>\n",
       "    </tr>\n",
       "    <tr>\n",
       "      <th>FWI</th>\n",
       "      <td>-0.594299</td>\n",
       "      <td>0.013239</td>\n",
       "      <td>-0.326426</td>\n",
       "      <td>0.704563</td>\n",
       "      <td>0.882314</td>\n",
       "      <td>0.746551</td>\n",
       "      <td>0.918573</td>\n",
       "      <td>0.855633</td>\n",
       "      <td>1.000000</td>\n",
       "      <td>0.747380</td>\n",
       "      <td>0.222943</td>\n",
       "    </tr>\n",
       "    <tr>\n",
       "      <th>Classes</th>\n",
       "      <td>-0.446906</td>\n",
       "      <td>-0.108246</td>\n",
       "      <td>-0.393221</td>\n",
       "      <td>0.773444</td>\n",
       "      <td>0.629505</td>\n",
       "      <td>0.562431</td>\n",
       "      <td>0.747764</td>\n",
       "      <td>0.624037</td>\n",
       "      <td>0.747380</td>\n",
       "      <td>1.000000</td>\n",
       "      <td>0.201988</td>\n",
       "    </tr>\n",
       "    <tr>\n",
       "      <th>Region</th>\n",
       "      <td>-0.427696</td>\n",
       "      <td>-0.191245</td>\n",
       "      <td>-0.086938</td>\n",
       "      <td>0.267099</td>\n",
       "      <td>0.175711</td>\n",
       "      <td>-0.080660</td>\n",
       "      <td>0.312299</td>\n",
       "      <td>0.079373</td>\n",
       "      <td>0.222943</td>\n",
       "      <td>0.201988</td>\n",
       "      <td>1.000000</td>\n",
       "    </tr>\n",
       "  </tbody>\n",
       "</table>\n",
       "</div>"
      ],
      "text/plain": [
       "               RH        Ws      Rain      FFMC       DMC        DC       ISI  \\\n",
       "RH       1.000000  0.262581  0.275592 -0.653649 -0.393893 -0.203883 -0.712353   \n",
       "Ws       0.262581  1.000000  0.204035 -0.226129 -0.010158  0.079699 -0.018845   \n",
       "Rain     0.275592  0.204035  1.000000 -0.589465 -0.300364 -0.302591 -0.347660   \n",
       "FFMC    -0.653649 -0.226129 -0.589465  1.000000  0.621958  0.528275  0.742079   \n",
       "DMC     -0.393893 -0.010158 -0.300364  0.621958  1.000000  0.884417  0.680918   \n",
       "DC      -0.203883  0.079699 -0.302591  0.528275  0.884417  1.000000  0.501412   \n",
       "ISI     -0.712353 -0.018845 -0.347660  0.742079  0.680918  0.501412  1.000000   \n",
       "BUI     -0.333027  0.023680 -0.308258  0.606527  0.984222  0.951157  0.632285   \n",
       "FWI     -0.594299  0.013239 -0.326426  0.704563  0.882314  0.746551  0.918573   \n",
       "Classes -0.446906 -0.108246 -0.393221  0.773444  0.629505  0.562431  0.747764   \n",
       "Region  -0.427696 -0.191245 -0.086938  0.267099  0.175711 -0.080660  0.312299   \n",
       "\n",
       "              BUI       FWI   Classes    Region  \n",
       "RH      -0.333027 -0.594299 -0.446906 -0.427696  \n",
       "Ws       0.023680  0.013239 -0.108246 -0.191245  \n",
       "Rain    -0.308258 -0.326426 -0.393221 -0.086938  \n",
       "FFMC     0.606527  0.704563  0.773444  0.267099  \n",
       "DMC      0.984222  0.882314  0.629505  0.175711  \n",
       "DC       0.951157  0.746551  0.562431 -0.080660  \n",
       "ISI      0.632285  0.918573  0.747764  0.312299  \n",
       "BUI      1.000000  0.855633  0.624037  0.079373  \n",
       "FWI      0.855633  1.000000  0.747380  0.222943  \n",
       "Classes  0.624037  0.747380  1.000000  0.201988  \n",
       "Region   0.079373  0.222943  0.201988  1.000000  "
      ]
     },
     "execution_count": 62,
     "metadata": {},
     "output_type": "execute_result"
    }
   ],
   "source": [
    "X_train.corr()"
   ]
  },
  {
   "cell_type": "markdown",
   "id": "5149f36c",
   "metadata": {},
   "source": [
    "#### Checking multicollinearlity and remove highly corrrelated features"
   ]
  },
  {
   "cell_type": "code",
   "execution_count": 63,
   "id": "c3e9fa2a",
   "metadata": {},
   "outputs": [
    {
     "data": {
      "image/png": "[encoded data removed]",
      "text/plain": [
       "<Figure size 864x720 with 2 Axes>"
      ]
     },
     "metadata": {
      "needs_background": "light"
     },
     "output_type": "display_data"
    }
   ],
   "source": [
    "#Using Pearson Correlation\n",
    "plt.figure(figsize=(12,10))\n",
    "cor = X_train.corr()\n",
    "sns.heatmap(cor, annot=True, cmap=plt.cm.CMRmap_r)\n",
    "plt.show()"
   ]
  },
  {
   "cell_type": "code",
   "execution_count": 64,
   "id": "82074e74",
   "metadata": {},
   "outputs": [],
   "source": [
    "def correlation(dataset, threshold):\n",
    "    col_corr = set()\n",
    "    corr_matrix = dataset.corr()\n",
    "    for i in range(len(corr_matrix.columns)):\n",
    "        for j in range(i):\n",
    "            if abs(corr_matrix.iloc[i, j]) > threshold: \n",
    "                colname = corr_matrix.columns[i]\n",
    "                col_corr.add(colname)\n",
    "    return col_corr"
   ]
  },
  {
   "cell_type": "code",
   "execution_count": 65,
   "id": "9a82d7c9",
   "metadata": {},
   "outputs": [],
   "source": [
    "corr_features = correlation(X_train, 0.75)"
   ]
  },
  {
   "cell_type": "code",
   "execution_count": 66,
   "id": "fb871486",
   "metadata": {},
   "outputs": [
    {
     "data": {
      "text/plain": [
       "{'BUI', 'Classes', 'DC', 'FWI'}"
      ]
     },
     "execution_count": 66,
     "metadata": {},
     "output_type": "execute_result"
    }
   ],
   "source": [
    "# features which has correlation more than 0.75\n",
    "corr_features"
   ]
  },
  {
   "cell_type": "code",
   "execution_count": 67,
   "id": "7c015622",
   "metadata": {},
   "outputs": [
    {
     "data": {
      "text/plain": [
       "((182, 7), (61, 7))"
      ]
     },
     "execution_count": 67,
     "metadata": {},
     "output_type": "execute_result"
    }
   ],
   "source": [
    "# drop features which has correlation more than 0.75\n",
    "X_train.drop(corr_features,axis=1, inplace=True)\n",
    "X_test.drop(corr_features,axis=1, inplace=True)\n",
    "X_train.shape, X_test.shape"
   ]
  },
  {
   "cell_type": "markdown",
   "id": "e78bb49e",
   "metadata": {},
   "source": [
    "## Feature scaling Applying Standardization"
   ]
  },
  {
   "cell_type": "code",
   "execution_count": 68,
   "id": "82ff412c",
   "metadata": {},
   "outputs": [],
   "source": [
    "def scaler_standard(X_train, X_test):\n",
    "    scaler = StandardScaler()\n",
    "    X_train_scaled = scaler.fit_transform(X_train)\n",
    "    X_test_scaled = scaler.transform(X_test)\n",
    "    \n",
    "    return X_train_scaled, X_test_scaled"
   ]
  },
  {
   "cell_type": "code",
   "execution_count": 69,
   "id": "63b39b2a",
   "metadata": {},
   "outputs": [],
   "source": [
    "X_train_scaled, X_test_scaled = scaler_standard(X_train, X_test)"
   ]
  },
  {
   "cell_type": "markdown",
   "id": "8da41b25",
   "metadata": {},
   "source": [
    "**Box plot the dataset to understand effect of standard scaler**"
   ]
  },
  {
   "cell_type": "code",
   "execution_count": 70,
   "id": "eb67912f",
   "metadata": {},
   "outputs": [
    {
     "data": {
      "text/plain": [
       "Text(0.5, 1.0, 'X_train After Scaling')"
      ]
     },
     "execution_count": 70,
     "metadata": {},
     "output_type": "execute_result"
    },
    {
     "data": {
      "image/png": "[encoded data removed]",
      "text/plain": [
       "<Figure size 1080x360 with 2 Axes>"
      ]
     },
     "metadata": {
      "needs_background": "light"
     },
     "output_type": "display_data"
    }
   ],
   "source": [
    "plt.subplots(figsize=(15, 5))\n",
    "plt.subplot(1, 2, 1)\n",
    "sns.boxplot(data=X_train)\n",
    "plt.title('X_train Before Scaling')\n",
    "plt.subplot(1, 2, 2)\n",
    "sns.boxplot(data=X_train_scaled)\n",
    "plt.title('X_train After Scaling')"
   ]
  },
  {
   "cell_type": "markdown",
   "id": "8b29938f",
   "metadata": {},
   "source": [
    "**0=Temperature, 1 = RH, 2 = Ws, 3 = Rain, 4 = FFMC,5 = DMC, 6 = ISI,7 = Region**"
   ]
  },
  {
   "cell_type": "markdown",
   "id": "d5f004c5",
   "metadata": {},
   "source": [
    "# Model Selection For Regression \n",
    "* Now start the model selection process where we try out bunch of different models. \n",
    "* Choose some and fine tune and Finalize one model"
   ]
  },
  {
   "cell_type": "markdown",
   "id": "18bc90fd",
   "metadata": {},
   "source": [
    "## 1 Linear Regression"
   ]
  },
  {
   "cell_type": "code",
   "execution_count": 71,
   "id": "9f298aeb",
   "metadata": {},
   "outputs": [
    {
     "name": "stdout",
     "output_type": "stream",
     "text": [
      "Linear Regression\n",
      "R2 Score value: 0.4552\n",
      "MAE value: 2.0287\n"
     ]
    }
   ],
   "source": [
    "from sklearn.linear_model import LinearRegression\n",
    "from sklearn.metrics import mean_absolute_error, r2_score\n",
    "\n",
    "\n",
    "lreg = LinearRegression()\n",
    "lreg.fit(X_train_scaled, y_train)\n",
    "lreg_pred = lreg.predict(X_test_scaled)\n",
    "mae = mean_absolute_error(y_test, lreg_pred)\n",
    "r2 = r2_score(y_test, lreg_pred)\n",
    "\n",
    "print(\"Linear Regression\")\n",
    "print (\"R2 Score value: {:.4f}\".format(r2))\n",
    "print (\"MAE value: {:.4f}\".format(mae))"
   ]
  },
  {
   "cell_type": "markdown",
   "id": "8ff74eb2",
   "metadata": {},
   "source": [
    "## 2 Lasso Regression"
   ]
  },
  {
   "cell_type": "code",
   "execution_count": 72,
   "id": "a17242be",
   "metadata": {},
   "outputs": [
    {
     "name": "stdout",
     "output_type": "stream",
     "text": [
      "Lasso Regression\n",
      "R2 Score value: 0.4485\n",
      "MAE value: 2.1012\n"
     ]
    }
   ],
   "source": [
    "from sklearn.linear_model import Lasso\n",
    "from sklearn.metrics import mean_absolute_error, r2_score\n",
    "\n",
    "\n",
    "lasso = Lasso()\n",
    "lasso.fit(X_train_scaled, y_train)\n",
    "lasso_pred = lasso.predict(X_test_scaled)\n",
    "mae = mean_absolute_error(y_test, lasso_pred)\n",
    "r2 = r2_score(y_test, lasso_pred)\n",
    "\n",
    "\n",
    "print(\"Lasso Regression\")\n",
    "print (\"R2 Score value: {:.4f}\".format(r2))\n",
    "print (\"MAE value: {:.4f}\".format(mae))"
   ]
  },
  {
   "cell_type": "markdown",
   "id": "74b82080",
   "metadata": {},
   "source": [
    "## 3. Ridge Regression"
   ]
  },
  {
   "cell_type": "code",
   "execution_count": 73,
   "id": "e5236def",
   "metadata": {},
   "outputs": [
    {
     "name": "stdout",
     "output_type": "stream",
     "text": [
      "Ridge Regression\n",
      "R2 Score value: 0.4553\n",
      "MAE value: 2.0291\n"
     ]
    }
   ],
   "source": [
    "from sklearn.linear_model import Ridge\n",
    "from sklearn.metrics import mean_absolute_error, r2_score\n",
    "\n",
    "ridge = Ridge()\n",
    "ridge.fit(X_train_scaled, y_train)\n",
    "ridge_pred = ridge.predict(X_test_scaled)\n",
    "mae = mean_absolute_error(y_test, ridge_pred)\n",
    "r2 = r2_score(y_test, ridge_pred)\n",
    "\n",
    "\n",
    "print(\"Ridge Regression\")\n",
    "print (\"R2 Score value: {:.4f}\".format(r2))\n",
    "print (\"MAE value: {:.4f}\".format(mae))"
   ]
  },
  {
   "cell_type": "markdown",
   "id": "4312fb85",
   "metadata": {},
   "source": [
    "## **Tuning Ridge Regression**"
   ]
  },
  {
   "cell_type": "code",
   "execution_count": 74,
   "id": "ad319e4e",
   "metadata": {},
   "outputs": [
    {
     "data": {
      "text/plain": [
       "RandomizedSearchCV(cv=10, estimator=Ridge(), n_jobs=-1,\n",
       "                   param_distributions=[{'alpha': array([1.00000000e-11, 1.66810054e-11, 2.78255940e-11, 4.64158883e-11,\n",
       "       7.74263683e-11, 1.29154967e-10, 2.15443469e-10, 3.59381366e-10,\n",
       "       5.99484250e-10, 1.00000000e-09, 1.66810054e-09, 2.78255940e-09,\n",
       "       4.64158883e-09, 7.74263683e-09, 1.29154967e-08, 2.15443469e-08,\n",
       "       3.59381366e-08, 5.994...\n",
       "       5.99484250e+06, 1.00000000e+07, 1.66810054e+07, 2.78255940e+07,\n",
       "       4.64158883e+07, 7.74263683e+07, 1.29154967e+08, 2.15443469e+08,\n",
       "       3.59381366e+08, 5.99484250e+08, 1.00000000e+09, 1.66810054e+09,\n",
       "       2.78255940e+09, 4.64158883e+09, 7.74263683e+09, 1.29154967e+10,\n",
       "       2.15443469e+10, 3.59381366e+10, 5.99484250e+10, 1.00000000e+11]),\n",
       "                                         'solver': ['auto', 'svd', 'cholesky',\n",
       "                                                    'lsqr', 'sparse_cg', 'sag',\n",
       "                                                    'saga', 'lbfgs']}])"
      ]
     },
     "execution_count": 74,
     "metadata": {},
     "output_type": "execute_result"
    }
   ],
   "source": [
    "from sklearn.exceptions import FitFailedWarning, ConvergenceWarning\n",
    "import warnings \n",
    "warnings.filterwarnings(action= 'ignore')\n",
    "ridge_params = [{'alpha': (np.logspace(-11, 11, 100)), \n",
    "                'solver': ['auto', 'svd', 'cholesky', 'lsqr', 'sparse_cg', 'sag', 'saga', 'lbfgs']}] \n",
    "\n",
    "ridge = Ridge()\n",
    "random_ridge = RandomizedSearchCV(ridge, ridge_params, cv=10, n_jobs= -1)\n",
    "random_ridge.fit(X_train_scaled, y_train)"
   ]
  },
  {
   "cell_type": "code",
   "execution_count": 76,
   "id": "6097978d",
   "metadata": {},
   "outputs": [],
   "source": [
    "best_ridge = random_ridge.best_estimator_"
   ]
  },
  {
   "cell_type": "code",
   "execution_count": 77,
   "id": "037002a7",
   "metadata": {},
   "outputs": [
    {
     "data": {
      "text/plain": [
       "Ridge(alpha=0.059948425031893966, solver='cholesky')"
      ]
     },
     "execution_count": 77,
     "metadata": {},
     "output_type": "execute_result"
    }
   ],
   "source": [
    "best_ridge"
   ]
  },
  {
   "cell_type": "code",
   "execution_count": 78,
   "id": "5b6a9b1f",
   "metadata": {},
   "outputs": [
    {
     "name": "stdout",
     "output_type": "stream",
     "text": [
      "Random Forest Tuned\n",
      "R2 Score value: 0.4552\n",
      "MAE value: 2.0287\n"
     ]
    }
   ],
   "source": [
    "best_ridge = Ridge(alpha=0.059948425031893966, solver='cholesky')\n",
    "best_ridge.fit(X_train_scaled, y_train)\n",
    "rbest_pred = best_ridge.predict(X_test_scaled)\n",
    "mae = mean_absolute_error(y_test, rbest_pred)\n",
    "r2 = r2_score(y_test, rbest_pred)\n",
    "\n",
    "\n",
    "print(\"Random Forest Tuned\")\n",
    "print (\"R2 Score value: {:.4f}\".format(r2))\n",
    "print (\"MAE value: {:.4f}\".format(mae))"
   ]
  },
  {
   "cell_type": "code",
   "execution_count": 79,
   "id": "6beccaff",
   "metadata": {},
   "outputs": [],
   "source": [
    "import bz2,pickle\n",
    "file = bz2.BZ2File('regression.pkl','wb')\n",
    "pickle.dump(best_ridge,file)\n",
    "file.close()"
   ]
  },
  {
   "cell_type": "markdown",
   "id": "99056333",
   "metadata": {},
   "source": []
  },
  {
   "cell_type": "code",
   "execution_count": null,
   "id": "76833b52",
   "metadata": {},
   "outputs": [],
   "source": []
  }
 ],
 "metadata": {
  "kernelspec": {
   "display_name": "Python 3 (ipykernel)",
   "language": "python",
   "name": "python3"
  },
  "language_info": {
   "codemirror_mode": {
    "name": "ipython",
    "version": 3
   },
   "file_extension": ".py",
   "mimetype": "text/x-python",
   "name": "python",
   "nbconvert_exporter": "python",
   "pygments_lexer": "ipython3",
   "version": "3.8.16"
  },
  "vscode": {
   "interpreter": {
    "hash": "2262415ec6075df27deaf9ba4b71b7fb2a8330e450054d50c546206358e9286b"
   }
  }
 },
 "nbformat": 4,
 "nbformat_minor": 5
}
